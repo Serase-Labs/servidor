{
 "cells": [
  {
   "cell_type": "code",
   "execution_count": 1,
   "metadata": {},
   "outputs": [],
   "source": [
    "# Sempre rode isso para começar o Notebook\n",
    "# De modo resumido, isso faz com que o notebook possa acessar o Django\n",
    "\n",
    "import sys\n",
    "sys.path.append(\"../../\")\n",
    "\n",
    "import os\n",
    "import django\n",
    "\n",
    "os.environ.setdefault(\"DJANGO_SETTINGS_MODULE\", \"serase_projeto.settings\")\n",
    "os.environ[\"DJANGO_ALLOW_ASYNC_UNSAFE\"] = \"true\"\n",
    "django.setup()"
   ]
  },
  {
   "cell_type": "code",
   "execution_count": 2,
   "metadata": {},
   "outputs": [],
   "source": [
    "# Digite seu código aqui!"
   ]
  },
  {
   "cell_type": "code",
   "execution_count": 3,
   "metadata": {
    "scrolled": true
   },
   "outputs": [
    {
     "data": {
      "text/plain": [
       "[{'id': 1,\n",
       "  'descricao': 'Spotify',\n",
       "  'periodo': 1,\n",
       "  'dia_cobranca': 1,\n",
       "  'data_inicio': datetime.date(2018, 4, 18),\n",
       "  'data_fim': None,\n",
       "  'valor_padrao': Decimal('-26.90'),\n",
       "  'categoria': 'Lazer',\n",
       "  'tipo': 'D'},\n",
       " {'id': 2,\n",
       "  'descricao': 'Bolsa IC',\n",
       "  'periodo': 1,\n",
       "  'dia_cobranca': 6,\n",
       "  'data_inicio': datetime.date(2020, 7, 8),\n",
       "  'data_fim': datetime.date(2021, 7, 8),\n",
       "  'valor_padrao': Decimal('300.00'),\n",
       "  'categoria': 'Sálario',\n",
       "  'tipo': 'R'},\n",
       " {'id': 3,\n",
       "  'descricao': 'Conta de luz',\n",
       "  'periodo': 1,\n",
       "  'dia_cobranca': 6,\n",
       "  'data_inicio': None,\n",
       "  'data_fim': None,\n",
       "  'valor_padrao': None,\n",
       "  'categoria': 'Habitação',\n",
       "  'tipo': 'D'},\n",
       " {'id': 4,\n",
       "  'descricao': 'Internet',\n",
       "  'periodo': 1,\n",
       "  'dia_cobranca': 5,\n",
       "  'data_inicio': datetime.date(2020, 2, 4),\n",
       "  'data_fim': None,\n",
       "  'valor_padrao': Decimal('-59.90'),\n",
       "  'categoria': 'Habitação',\n",
       "  'tipo': 'D'},\n",
       " {'id': 5,\n",
       "  'descricao': 'Sálario',\n",
       "  'periodo': 1,\n",
       "  'dia_cobranca': 5,\n",
       "  'data_inicio': None,\n",
       "  'data_fim': None,\n",
       "  'valor_padrao': Decimal('2356.00'),\n",
       "  'categoria': 'Sálario',\n",
       "  'tipo': 'R'}]"
      ]
     },
     "execution_count": 3,
     "metadata": {},
     "output_type": "execute_result"
    }
   ],
   "source": [
    "# Testando values_list no PadraoMovimentacao\n",
    "\n",
    "from serase_app.models import PadraoMovimentacao\n",
    "from django.db.models import F\n",
    "\n",
    "lista = PadraoMovimentacao.objects.values(\"id\", \"descricao\", \"periodo\", \"dia_cobranca\", \"data_inicio\", \"data_fim\", valor_padrao=F(\"valor\"), categoria=F(\"cod_categoria__nome\"), tipo=F(\"receita_despesa\"))\n",
    "lista = list(lista)\n",
    "lista"
   ]
  },
  {
   "cell_type": "code",
   "execution_count": 6,
   "metadata": {},
   "outputs": [
    {
     "data": {
      "text/plain": [
       "<QuerySet [{'id': 1, 'receita_despesa': 'D', 'descricao': 'Spotify', 'periodo': 1, 'valor': Decimal('-26.90'), 'dia_cobranca': 1, 'data_inicio': datetime.date(2018, 4, 18), 'data_fim': None, 'cod_usuario_id': 1, 'cod_categoria_id': 4}, {'id': 2, 'receita_despesa': 'R', 'descricao': 'Bolsa IC', 'periodo': 1, 'valor': Decimal('300.00'), 'dia_cobranca': 6, 'data_inicio': datetime.date(2020, 7, 8), 'data_fim': datetime.date(2021, 7, 8), 'cod_usuario_id': 1, 'cod_categoria_id': 9}, {'id': 3, 'receita_despesa': 'D', 'descricao': 'Conta de luz', 'periodo': 1, 'valor': None, 'dia_cobranca': 6, 'data_inicio': None, 'data_fim': None, 'cod_usuario_id': 1, 'cod_categoria_id': 10}, {'id': 4, 'receita_despesa': 'D', 'descricao': 'Internet', 'periodo': 1, 'valor': Decimal('-59.90'), 'dia_cobranca': 5, 'data_inicio': datetime.date(2020, 2, 4), 'data_fim': None, 'cod_usuario_id': 1, 'cod_categoria_id': 10}, {'id': 5, 'receita_despesa': 'Emma', 'descricao': 'Sálario', 'periodo': 1, 'valor': Decimal('2356.00'), 'dia_cobranca': 5, 'data_inicio': None, 'data_fim': None, 'cod_usuario_id': 1, 'cod_categoria_id': 9}]>"
      ]
     },
     "execution_count": 6,
     "metadata": {},
     "output_type": "execute_result"
    }
   ],
   "source": [
    "# Testando o choices do PadraoMovimentacao\n",
    "\n",
    "#from serase_app.models import PadraoMovimentacao\n",
    "from django.db.models import F, Case, When, CharField, Value\n",
    "\n",
    "# > Consulta\n",
    "\n",
    "# Pego de https://stackoverflow.com/a/60158573\n",
    "class WithChoices(Case):\n",
    "    def __init__(self, model, field, condition=None, then=None, **lookups):\n",
    "        choices = dict(model._meta.get_field(field).flatchoices)\n",
    "        whens = [When(**{field: k, 'then': Value(v)}) for k, v in choices.items()]\n",
    "        return super().__init__(*whens, output_field=CharField())\n",
    "\n",
    "\n",
    "PadraoMovimentacao.objects.values()"
   ]
  },
  {
   "cell_type": "code",
   "execution_count": 3,
   "metadata": {},
   "outputs": [],
   "source": [
    "# Testando movimentacoes\n",
    "\n",
    "from serase_app.models import Movimentacao"
   ]
  },
  {
   "cell_type": "code",
   "execution_count": 27,
   "metadata": {},
   "outputs": [
    {
     "name": "stdout",
     "output_type": "stream",
     "text": [
      "Mate coro e sanduba 2020-11-01\n",
      "bebida Halloween 2020-10-30\n",
      "Make pro Halloween 2020-10-30\n",
      "Dinheiro do Spotify 2020-10-26\n",
      "Quebrando a quarentena 2020-10-17\n",
      "Compras 2020-10-10\n",
      "Bolsa ic 2020-10-08\n",
      "Conta de luz 2020-10-08\n",
      "Internet 2020-10-08\n",
      "Spotify 2020-10-08\n",
      "Sálario 2020-10-07\n",
      "Churros 2020-10-03\n",
      "Milkshake McDonnadls 2020-09-15\n",
      "Compras 2020-09-12\n",
      "Bolsa ic 2020-09-08\n",
      "Conta de luz 2020-09-08\n",
      "Internet 2020-09-08\n",
      "Internet 2020-09-08\n",
      "Spotify 2020-09-08\n",
      "Sálario 2020-09-07\n",
      "Viola 2020-09-02\n",
      "Bolsa ic 2020-08-10\n",
      "Conta de luz 2020-08-10\n",
      "Internet 2020-08-10\n",
      "Spotify 2020-08-10\n",
      "Sálario 2020-08-07\n",
      "Adoção do Cumpa, o Cacto 2020-07-16\n",
      "Outer wilds 2020-07-10\n"
     ]
    }
   ],
   "source": [
    "valores = Movimentacao.objects.filter(valor_pago__isnull=False).values_list(\"descricao\", \"data_lancamento\").order_by(\"-data_lancamento\")\n",
    "\n",
    "for nom, dat in valores:\n",
    "    print(nom + \" \" + str(dat))"
   ]
  },
  {
   "cell_type": "code",
   "execution_count": 4,
   "metadata": {},
   "outputs": [
    {
     "data": {
      "text/plain": [
       "datetime.datetime(2020, 11, 20, 15, 29, 33, 750615)"
      ]
     },
     "execution_count": 4,
     "metadata": {},
     "output_type": "execute_result"
    }
   ],
   "source": []
  },
  {
   "cell_type": "code",
   "execution_count": 28,
   "metadata": {},
   "outputs": [
    {
     "data": {
      "text/plain": [
       "<QuerySet [<Movimentacao: Mate coro e sanduba>, <Movimentacao: bebida Halloween>, <Movimentacao: Make pro Halloween>, <Movimentacao: Dinheiro do Spotify>]>"
      ]
     },
     "execution_count": 28,
     "metadata": {},
     "output_type": "execute_result"
    }
   ],
   "source": [
    "# Teste datetime: objeto data apartir de string e filtrar por data\n",
    "\n",
    "from datetime import datetime\n",
    "\n",
    "data = datetime.strptime(\"2020-10-26\", '%Y-%m-%d').date()\n",
    "Movimentacao.objects.filter(data_lancamento__gte=data)"
   ]
  },
  {
   "cell_type": "code",
   "execution_count": 5,
   "metadata": {},
   "outputs": [
    {
     "data": {
      "text/plain": [
       "{'id': 13,\n",
       " 'descricao': 'Churros',\n",
       " 'valor_esperado': None,\n",
       " 'valor_pago': Decimal('-5.00'),\n",
       " 'data_geracao': None,\n",
       " 'data_lancamento': datetime.date(2020, 10, 3),\n",
       " 'cod_usuario_id': 1,\n",
       " 'cod_categoria_id': 5,\n",
       " 'cod_padrao_id': None}"
      ]
     },
     "execution_count": 5,
     "metadata": {},
     "output_type": "execute_result"
    }
   ],
   "source": [
    "a = Movimentacao.objects.filter(descricao=\"Churros\").values()\n",
    "list(a)[0]"
   ]
  },
  {
   "cell_type": "code",
   "execution_count": 30,
   "metadata": {},
   "outputs": [
    {
     "ename": "ValueError",
     "evalue": "time data '2020-1s0-26' does not match format '%Y-%m-%d'",
     "output_type": "error",
     "traceback": [
      "\u001b[1;31m---------------------------------------------------------------------------\u001b[0m",
      "\u001b[1;31mValueError\u001b[0m                                Traceback (most recent call last)",
      "\u001b[1;32m<ipython-input-30-0f9f1a452959>\u001b[0m in \u001b[0;36m<module>\u001b[1;34m\u001b[0m\n\u001b[0;32m      1\u001b[0m \u001b[1;32mfrom\u001b[0m \u001b[0mdatetime\u001b[0m \u001b[1;32mimport\u001b[0m \u001b[0mdatetime\u001b[0m\u001b[1;33m\u001b[0m\u001b[1;33m\u001b[0m\u001b[0m\n\u001b[0;32m      2\u001b[0m \u001b[1;33m\u001b[0m\u001b[0m\n\u001b[1;32m----> 3\u001b[1;33m \u001b[0mdata\u001b[0m \u001b[1;33m=\u001b[0m \u001b[0mdatetime\u001b[0m\u001b[1;33m.\u001b[0m\u001b[0mstrptime\u001b[0m\u001b[1;33m(\u001b[0m\u001b[1;34m\"2020-1s0-26\"\u001b[0m\u001b[1;33m,\u001b[0m \u001b[1;34m'%Y-%m-%d'\u001b[0m\u001b[1;33m)\u001b[0m\u001b[1;33m.\u001b[0m\u001b[0mdate\u001b[0m\u001b[1;33m(\u001b[0m\u001b[1;33m)\u001b[0m\u001b[1;33m\u001b[0m\u001b[1;33m\u001b[0m\u001b[0m\n\u001b[0m",
      "\u001b[1;32mc:\\users\\juanr\\appdata\\local\\programs\\python\\python37-32\\lib\\_strptime.py\u001b[0m in \u001b[0;36m_strptime_datetime\u001b[1;34m(cls, data_string, format)\u001b[0m\n\u001b[0;32m    575\u001b[0m     \"\"\"Return a class cls instance based on the input string and the\n\u001b[0;32m    576\u001b[0m     format string.\"\"\"\n\u001b[1;32m--> 577\u001b[1;33m     \u001b[0mtt\u001b[0m\u001b[1;33m,\u001b[0m \u001b[0mfraction\u001b[0m\u001b[1;33m,\u001b[0m \u001b[0mgmtoff_fraction\u001b[0m \u001b[1;33m=\u001b[0m \u001b[0m_strptime\u001b[0m\u001b[1;33m(\u001b[0m\u001b[0mdata_string\u001b[0m\u001b[1;33m,\u001b[0m \u001b[0mformat\u001b[0m\u001b[1;33m)\u001b[0m\u001b[1;33m\u001b[0m\u001b[1;33m\u001b[0m\u001b[0m\n\u001b[0m\u001b[0;32m    578\u001b[0m     \u001b[0mtzname\u001b[0m\u001b[1;33m,\u001b[0m \u001b[0mgmtoff\u001b[0m \u001b[1;33m=\u001b[0m \u001b[0mtt\u001b[0m\u001b[1;33m[\u001b[0m\u001b[1;33m-\u001b[0m\u001b[1;36m2\u001b[0m\u001b[1;33m:\u001b[0m\u001b[1;33m]\u001b[0m\u001b[1;33m\u001b[0m\u001b[1;33m\u001b[0m\u001b[0m\n\u001b[0;32m    579\u001b[0m     \u001b[0margs\u001b[0m \u001b[1;33m=\u001b[0m \u001b[0mtt\u001b[0m\u001b[1;33m[\u001b[0m\u001b[1;33m:\u001b[0m\u001b[1;36m6\u001b[0m\u001b[1;33m]\u001b[0m \u001b[1;33m+\u001b[0m \u001b[1;33m(\u001b[0m\u001b[0mfraction\u001b[0m\u001b[1;33m,\u001b[0m\u001b[1;33m)\u001b[0m\u001b[1;33m\u001b[0m\u001b[1;33m\u001b[0m\u001b[0m\n",
      "\u001b[1;32mc:\\users\\juanr\\appdata\\local\\programs\\python\\python37-32\\lib\\_strptime.py\u001b[0m in \u001b[0;36m_strptime\u001b[1;34m(data_string, format)\u001b[0m\n\u001b[0;32m    357\u001b[0m     \u001b[1;32mif\u001b[0m \u001b[1;32mnot\u001b[0m \u001b[0mfound\u001b[0m\u001b[1;33m:\u001b[0m\u001b[1;33m\u001b[0m\u001b[1;33m\u001b[0m\u001b[0m\n\u001b[0;32m    358\u001b[0m         raise ValueError(\"time data %r does not match format %r\" %\n\u001b[1;32m--> 359\u001b[1;33m                          (data_string, format))\n\u001b[0m\u001b[0;32m    360\u001b[0m     \u001b[1;32mif\u001b[0m \u001b[0mlen\u001b[0m\u001b[1;33m(\u001b[0m\u001b[0mdata_string\u001b[0m\u001b[1;33m)\u001b[0m \u001b[1;33m!=\u001b[0m \u001b[0mfound\u001b[0m\u001b[1;33m.\u001b[0m\u001b[0mend\u001b[0m\u001b[1;33m(\u001b[0m\u001b[1;33m)\u001b[0m\u001b[1;33m:\u001b[0m\u001b[1;33m\u001b[0m\u001b[1;33m\u001b[0m\u001b[0m\n\u001b[0;32m    361\u001b[0m         raise ValueError(\"unconverted data remains: %s\" %\n",
      "\u001b[1;31mValueError\u001b[0m: time data '2020-1s0-26' does not match format '%Y-%m-%d'"
     ]
    }
   ],
   "source": [
    "from datetime import datetime\n",
    "\n",
    "data = datetime.strptime(\"2020-1s0-26\", '%Y-%m-%d').date()"
   ]
  },
  {
   "cell_type": "code",
   "execution_count": null,
   "metadata": {},
   "outputs": [],
   "source": []
  }
 ],
 "metadata": {
  "kernelspec": {
   "display_name": "Python 3",
   "language": "python",
   "name": "python3"
  },
  "language_info": {
   "codemirror_mode": {
    "name": "ipython",
    "version": 3
   },
   "file_extension": ".py",
   "mimetype": "text/x-python",
   "name": "python",
   "nbconvert_exporter": "python",
   "pygments_lexer": "ipython3",
   "version": "3.7.4"
  }
 },
 "nbformat": 4,
 "nbformat_minor": 4
}
