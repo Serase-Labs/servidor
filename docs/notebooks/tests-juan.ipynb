{
 "cells": [
  {
   "cell_type": "code",
   "execution_count": 1,
   "metadata": {},
   "outputs": [],
   "source": [
    "# Sempre rode isso para começar o Notebook\n",
    "# De modo resumido, isso faz com que o notebook possa acessar o Django\n",
    "\n",
    "import sys\n",
    "sys.path.append(\"../../\")\n",
    "\n",
    "import os\n",
    "import django\n",
    "\n",
    "os.environ.setdefault(\"DJANGO_SETTINGS_MODULE\", \"serase_projeto.settings\")\n",
    "os.environ[\"DJANGO_ALLOW_ASYNC_UNSAFE\"] = \"true\"\n",
    "django.setup()"
   ]
  },
  {
   "cell_type": "code",
   "execution_count": 2,
   "metadata": {},
   "outputs": [],
   "source": [
    "# Digite seu código aqui!"
   ]
  },
  {
   "cell_type": "code",
   "execution_count": 3,
   "metadata": {
    "scrolled": true
   },
   "outputs": [
    {
     "data": {
      "text/plain": [
       "[{'id': 1,\n",
       "  'descricao': 'Spotify',\n",
       "  'periodo': 1,\n",
       "  'dia_cobranca': 1,\n",
       "  'data_inicio': datetime.date(2018, 4, 18),\n",
       "  'data_fim': None,\n",
       "  'valor_padrao': Decimal('-26.90'),\n",
       "  'categoria': 'Lazer',\n",
       "  'tipo': 'despesa'},\n",
       " {'id': 2,\n",
       "  'descricao': 'Bolsa IC',\n",
       "  'periodo': 1,\n",
       "  'dia_cobranca': 6,\n",
       "  'data_inicio': datetime.date(2020, 7, 8),\n",
       "  'data_fim': datetime.date(2021, 7, 8),\n",
       "  'valor_padrao': Decimal('300.00'),\n",
       "  'categoria': 'Sálario',\n",
       "  'tipo': 'receita'},\n",
       " {'id': 3,\n",
       "  'descricao': 'Conta de luz',\n",
       "  'periodo': 1,\n",
       "  'dia_cobranca': 6,\n",
       "  'data_inicio': None,\n",
       "  'data_fim': None,\n",
       "  'valor_padrao': None,\n",
       "  'categoria': 'Habitação',\n",
       "  'tipo': 'despesa'},\n",
       " {'id': 4,\n",
       "  'descricao': 'Internet',\n",
       "  'periodo': 1,\n",
       "  'dia_cobranca': 5,\n",
       "  'data_inicio': datetime.date(2020, 2, 4),\n",
       "  'data_fim': None,\n",
       "  'valor_padrao': Decimal('-59.90'),\n",
       "  'categoria': 'Habitação',\n",
       "  'tipo': 'despesa'},\n",
       " {'id': 5,\n",
       "  'descricao': 'Sálario',\n",
       "  'periodo': 1,\n",
       "  'dia_cobranca': 5,\n",
       "  'data_inicio': None,\n",
       "  'data_fim': None,\n",
       "  'valor_padrao': Decimal('2356.00'),\n",
       "  'categoria': 'Sálario',\n",
       "  'tipo': 'receita'},\n",
       " {'id': 6,\n",
       "  'descricao': 'spotify',\n",
       "  'periodo': 2,\n",
       "  'dia_cobranca': 84,\n",
       "  'data_inicio': None,\n",
       "  'data_fim': None,\n",
       "  'valor_padrao': Decimal('1500.00'),\n",
       "  'categoria': 'presente',\n",
       "  'tipo': 'receita'}]"
      ]
     },
     "execution_count": 3,
     "metadata": {},
     "output_type": "execute_result"
    }
   ],
   "source": [
    "# Testando values_list no PadraoMovimentacao\n",
    "\n",
    "from serase_app.models import PadraoMovimentacao\n",
    "from django.db.models import F\n",
    "\n",
    "lista = PadraoMovimentacao.objects.values(\"id\", \"descricao\", \"periodo\", \"dia_cobranca\", \"data_inicio\", \"data_fim\", valor_padrao=F(\"valor\"), categoria=F(\"cod_categoria__nome\"), tipo=F(\"receita_despesa\"))\n",
    "lista = list(lista)\n",
    "lista"
   ]
  },
  {
   "cell_type": "code",
   "execution_count": 4,
   "metadata": {},
   "outputs": [
    {
     "data": {
      "text/plain": [
       "<QuerySet [{'id': 1, 'receita_despesa': 'despesa', 'descricao': 'Spotify', 'periodo': 1, 'valor': Decimal('-26.90'), 'dia_cobranca': 1, 'data_inicio': datetime.date(2018, 4, 18), 'data_fim': None, 'cod_usuario_id': 1, 'cod_categoria_id': 4}, {'id': 2, 'receita_despesa': 'receita', 'descricao': 'Bolsa IC', 'periodo': 1, 'valor': Decimal('300.00'), 'dia_cobranca': 6, 'data_inicio': datetime.date(2020, 7, 8), 'data_fim': datetime.date(2021, 7, 8), 'cod_usuario_id': 1, 'cod_categoria_id': 9}, {'id': 3, 'receita_despesa': 'despesa', 'descricao': 'Conta de luz', 'periodo': 1, 'valor': None, 'dia_cobranca': 6, 'data_inicio': None, 'data_fim': None, 'cod_usuario_id': 1, 'cod_categoria_id': 10}, {'id': 4, 'receita_despesa': 'despesa', 'descricao': 'Internet', 'periodo': 1, 'valor': Decimal('-59.90'), 'dia_cobranca': 5, 'data_inicio': datetime.date(2020, 2, 4), 'data_fim': None, 'cod_usuario_id': 1, 'cod_categoria_id': 10}, {'id': 5, 'receita_despesa': 'receita', 'descricao': 'Sálario', 'periodo': 1, 'valor': Decimal('2356.00'), 'dia_cobranca': 5, 'data_inicio': None, 'data_fim': None, 'cod_usuario_id': 1, 'cod_categoria_id': 9}, {'id': 6, 'receita_despesa': 'receita', 'descricao': 'spotify', 'periodo': 2, 'valor': Decimal('1500.00'), 'dia_cobranca': 84, 'data_inicio': None, 'data_fim': None, 'cod_usuario_id': 2, 'cod_categoria_id': 14}]>"
      ]
     },
     "execution_count": 4,
     "metadata": {},
     "output_type": "execute_result"
    }
   ],
   "source": [
    "# Testando o choices do PadraoMovimentacao\n",
    "\n",
    "#from serase_app.models import PadraoMovimentacao\n",
    "from django.db.models import F, Case, When, CharField, Value\n",
    "\n",
    "# > Consulta\n",
    "\n",
    "# Pego de https://stackoverflow.com/a/60158573\n",
    "class WithChoices(Case):\n",
    "    def __init__(self, model, field, condition=None, then=None, **lookups):\n",
    "        choices = dict(model._meta.get_field(field).flatchoices)\n",
    "        whens = [When(**{field: k, 'then': Value(v)}) for k, v in choices.items()]\n",
    "        return super().__init__(*whens, output_field=CharField())\n",
    "\n",
    "\n",
    "PadraoMovimentacao.objects.values()"
   ]
  },
  {
   "cell_type": "code",
   "execution_count": 5,
   "metadata": {},
   "outputs": [],
   "source": [
    "# Testando movimentacoes\n",
    "\n",
    "from serase_app.models import *"
   ]
  },
  {
   "cell_type": "code",
   "execution_count": 6,
   "metadata": {},
   "outputs": [
    {
     "name": "stdout",
     "output_type": "stream",
     "text": [
      "Mate coro e sanduba 2020-11-01\n",
      "bebida Halloween 2020-10-30\n",
      "Make pro Halloween 2020-10-30\n",
      "Dinheiro do Spotify 2020-10-26\n",
      "Quebrando a quarentena 2020-10-17\n",
      "Compras 2020-10-10\n",
      "Bolsa ic 2020-10-08\n",
      "Conta de luz 2020-10-08\n",
      "Internet 2020-10-08\n",
      "Spotify 2020-10-08\n",
      "Sálario 2020-10-07\n",
      "Churros 2020-10-03\n",
      "Milkshake McDonnadls 2020-09-15\n",
      "Compras 2020-09-12\n",
      "Bolsa ic 2020-09-08\n",
      "Conta de luz 2020-09-08\n",
      "Internet 2020-09-08\n",
      "Internet 2020-09-08\n",
      "Spotify 2020-09-08\n",
      "Sálario 2020-09-07\n",
      "Viola 2020-09-02\n",
      "Bolsa ic 2020-08-10\n",
      "Conta de luz 2020-08-10\n",
      "Internet 2020-08-10\n",
      "Spotify 2020-08-10\n",
      "Sálario 2020-08-07\n",
      "Adoção do Cumpa, o Cacto 2020-07-16\n",
      "Outer wilds 2020-07-10\n"
     ]
    }
   ],
   "source": [
    "valores = Movimentacao.objects.filter(valor_pago__isnull=False).values_list(\"descricao\", \"data_lancamento\").order_by(\"-data_lancamento\")\n",
    "\n",
    "for nom, dat in valores:\n",
    "    print(nom + \" \" + str(dat))"
   ]
  },
  {
   "cell_type": "code",
   "execution_count": 4,
   "metadata": {},
   "outputs": [
    {
     "data": {
      "text/plain": [
       "datetime.datetime(2020, 11, 20, 15, 29, 33, 750615)"
      ]
     },
     "execution_count": 4,
     "metadata": {},
     "output_type": "execute_result"
    }
   ],
   "source": []
  },
  {
   "cell_type": "code",
   "execution_count": 28,
   "metadata": {},
   "outputs": [
    {
     "data": {
      "text/plain": [
       "<QuerySet [<Movimentacao: Mate coro e sanduba>, <Movimentacao: bebida Halloween>, <Movimentacao: Make pro Halloween>, <Movimentacao: Dinheiro do Spotify>]>"
      ]
     },
     "execution_count": 28,
     "metadata": {},
     "output_type": "execute_result"
    }
   ],
   "source": [
    "# Teste datetime: objeto data apartir de string e filtrar por data\n",
    "\n",
    "from datetime import datetime\n",
    "\n",
    "data = datetime.strptime(\"2020-10-26\", '%Y-%m-%d').date()\n",
    "Movimentacao.objects.filter(data_lancamento__gte=data)"
   ]
  },
  {
   "cell_type": "code",
   "execution_count": 5,
   "metadata": {},
   "outputs": [
    {
     "data": {
      "text/plain": [
       "{'id': 13,\n",
       " 'descricao': 'Churros',\n",
       " 'valor_esperado': None,\n",
       " 'valor_pago': Decimal('-5.00'),\n",
       " 'data_geracao': None,\n",
       " 'data_lancamento': datetime.date(2020, 10, 3),\n",
       " 'cod_usuario_id': 1,\n",
       " 'cod_categoria_id': 5,\n",
       " 'cod_padrao_id': None}"
      ]
     },
     "execution_count": 5,
     "metadata": {},
     "output_type": "execute_result"
    }
   ],
   "source": [
    "a = Movimentacao.objects.filter(descricao=\"Churros\").values()\n",
    "list(a)[0]"
   ]
  },
  {
   "cell_type": "code",
   "execution_count": 19,
   "metadata": {},
   "outputs": [
    {
     "name": "stdout",
     "output_type": "stream",
     "text": [
      "bebida Halloween 2020-10-30\n",
      "Make pro Halloween 2020-10-30\n",
      "Dinheiro do Spotify 2020-10-26\n",
      "Quebrando a quarentena 2020-10-17\n",
      "Compras 2020-10-10\n",
      "Bolsa ic 2020-10-08\n",
      "Conta de luz 2020-10-08\n",
      "Internet 2020-10-08\n",
      "Spotify 2020-10-08\n",
      "Sálario 2020-10-07\n",
      "Churros 2020-10-03\n"
     ]
    }
   ],
   "source": [
    "from datetime import datetime\n",
    "\n",
    "mes_ano = datetime.strptime(\"2020-10\", '%Y-%m')\n",
    "\n",
    "a = Movimentacao.objects.filter(data_lancamento__month=mes_ano.month, data_lancamento__year=mes_ano.year).order_by(\"-data_lancamento\")\n",
    "for q in a:\n",
    "    print(q.descricao, q.data_lancamento)"
   ]
  },
  {
   "cell_type": "code",
   "execution_count": 21,
   "metadata": {},
   "outputs": [
    {
     "data": {
      "text/plain": [
       "2020"
      ]
     },
     "execution_count": 21,
     "metadata": {},
     "output_type": "execute_result"
    }
   ],
   "source": [
    "datetime.today().year"
   ]
  },
  {
   "cell_type": "code",
   "execution_count": 27,
   "metadata": {},
   "outputs": [
    {
     "data": {
      "text/plain": [
       "Decimal('2126.5')"
      ]
     },
     "execution_count": 27,
     "metadata": {},
     "output_type": "execute_result"
    }
   ],
   "source": [
    "from django.db.models import Sum\n",
    "\n",
    "mes_ano = datetime.strptime(\"2020-10\", '%Y-%m')\n",
    "query_movimentacao = Movimentacao.objects.filter(valor_pago__isnull=False)\n",
    "query_movimentacao = query_movimentacao.filter(data_lancamento__year=mes_ano.year, data_lancamento__month=mes_ano.month)\n",
    "query_movimentacao.aggregate(Sum(\"valor_pago\"))[\"valor_pago__sum\"]"
   ]
  },
  {
   "cell_type": "code",
   "execution_count": 4,
   "metadata": {},
   "outputs": [
    {
     "data": {
      "text/plain": [
       "(datetime.datetime(2019, 12, 1, 0, 0), datetime.datetime(2020, 1, 1, 0, 0))"
      ]
     },
     "execution_count": 4,
     "metadata": {},
     "output_type": "execute_result"
    }
   ],
   "source": [
    "from datetime import datetime, timedelta\n",
    "\n",
    "def mes_passado(data):\n",
    "    dia = data.day\n",
    "    data = data.replace(day=1) - timedelta(days=1)\n",
    "    data = data.replace(day=dia)\n",
    "    return data\n",
    "\n",
    "mes_ano = datetime.strptime(\"2020-01\", '%Y-%m')\n",
    "mes_passado(mes_ano), mes_ano"
   ]
  },
  {
   "cell_type": "code",
   "execution_count": 3,
   "metadata": {},
   "outputs": [
    {
     "ename": "ModuleNotFoundError",
     "evalue": "No module named 'serase_relatorio'",
     "output_type": "error",
     "traceback": [
      "\u001b[1;31m---------------------------------------------------------------------------\u001b[0m",
      "\u001b[1;31mModuleNotFoundError\u001b[0m                       Traceback (most recent call last)",
      "\u001b[1;32m<ipython-input-3-890e481bfd4e>\u001b[0m in \u001b[0;36m<module>\u001b[1;34m\u001b[0m\n\u001b[1;32m----> 1\u001b[1;33m \u001b[1;32mfrom\u001b[0m \u001b[0mserase_relatorio\u001b[0m\u001b[1;33m.\u001b[0m\u001b[0mutils\u001b[0m \u001b[1;32mimport\u001b[0m \u001b[0mcalcula_periodo\u001b[0m\u001b[1;33m,\u001b[0m \u001b[0mcalcula_periodo_anterior\u001b[0m\u001b[1;33m\u001b[0m\u001b[1;33m\u001b[0m\u001b[0m\n\u001b[0m\u001b[0;32m      2\u001b[0m \u001b[1;32mfrom\u001b[0m \u001b[0mserase_app\u001b[0m\u001b[1;33m.\u001b[0m\u001b[0mmodels\u001b[0m \u001b[1;32mimport\u001b[0m \u001b[1;33m*\u001b[0m\u001b[1;33m\u001b[0m\u001b[1;33m\u001b[0m\u001b[0m\n\u001b[0;32m      3\u001b[0m \u001b[1;33m\u001b[0m\u001b[0m\n\u001b[0;32m      4\u001b[0m \u001b[1;32mfrom\u001b[0m \u001b[0mdatetime\u001b[0m \u001b[1;32mimport\u001b[0m \u001b[0mdatetime\u001b[0m\u001b[1;33m,\u001b[0m \u001b[0mtimedelta\u001b[0m\u001b[1;33m\u001b[0m\u001b[1;33m\u001b[0m\u001b[0m\n\u001b[0;32m      5\u001b[0m \u001b[1;32mfrom\u001b[0m \u001b[0mdjango\u001b[0m\u001b[1;33m.\u001b[0m\u001b[0mdb\u001b[0m\u001b[1;33m.\u001b[0m\u001b[0mmodels\u001b[0m \u001b[1;32mimport\u001b[0m \u001b[0mQ\u001b[0m\u001b[1;33m,\u001b[0m \u001b[0mF\u001b[0m\u001b[1;33m,\u001b[0m \u001b[0mSum\u001b[0m\u001b[1;33m,\u001b[0m \u001b[0mCase\u001b[0m\u001b[1;33m,\u001b[0m \u001b[0mWhen\u001b[0m\u001b[1;33m,\u001b[0m \u001b[0mDecimalField\u001b[0m\u001b[1;33m,\u001b[0m \u001b[0mValue\u001b[0m\u001b[1;33m\u001b[0m\u001b[1;33m\u001b[0m\u001b[0m\n",
      "\u001b[1;31mModuleNotFoundError\u001b[0m: No module named 'serase_relatorio'"
     ]
    }
   ],
   "source": [
    "from serase_relatorio.utils import calcula_periodo, calcula_periodo_anterior\n",
    "from serase_app.models import *\n",
    "\n",
    "from datetime import datetime, timedelta\n",
    "from django.db.models import Q, F, Sum, Case, When, DecimalField, Value\n",
    "from django.db.models.functions import Cast, Coalesce\n",
    "\n",
    "\n",
    "usuario = User.objects.get(username=\"jv_eumsmo\")\n",
    "\n",
    "hoje = datetime.strptime(\"2020-09-10\", '%Y-%m-%d')\n",
    "periodo = \"semanal\"\n",
    "\n",
    "data_inicio, data_fim = calcula_periodo(periodo,hoje)\n",
    "data_inicio_passado, data_fim_passado = calcula_periodo_anterior(periodo, hoje)\n",
    "\n",
    "query = Movimentacao.objects.filter(cod_usuario=usuario, valor_pago__lt=0) # Seleciona despesas do usuario\n",
    "query = query.values('cod_categoria')\n",
    "\n",
    "# Seleciona despesas do periodo atual\n",
    "qperiodo_atual = query.filter(data_lancamento__gte=data_inicio, data_lancamento__lte=data_fim)\n",
    "    # Soma todas as despesas de uma categoria em 'despesa_total' e ordena em ordem decrescente\n",
    "qperiodo_atual = qperiodo_atual.annotate(despesa_total=Sum('valor_pago')).order_by(\"despesa_total\")\n",
    "\n",
    "print(data_inicio, data_fim)\n",
    "print(data_inicio_passado, data_fim_passado)\n",
    "\n",
    "query.filter(data_lancamento__gte=data_inicio_passado, data_lancamento__lte=data_fim).values('cod_categoria').annotate(\n",
    "    despesa_total=Case(\n",
    "        When(data_lancamento__gte=data_inicio, data_lancamento__lte=data_fim, then=Sum('valor_pago')),\n",
    "        default=Value(0.0),\n",
    "        output_field=DecimalField()\n",
    "    ) - Case(\n",
    "        When(data_lancamento__gte=data_inicio_passado, data_lancamento__lte=data_fim_passado, then=Sum('valor_pago')),\n",
    "        default=Value(0.0),\n",
    "        output_field=DecimalField()\n",
    "    )\n",
    ").aggregate(a=Sum('despesa_total'))\n",
    "\n",
    "query.filter(data_lancamento__gte=data_inicio_passado, data_lancamento__lte=data_fim).annotate(\n",
    "    despesa_total=Coalesce(Sum('valor_pago', filter=Q(data_lancamento__gte=data_inicio, data_lancamento__lte=data_fim)), 0.0) - Coalesce(Sum('valor_pago', filter=Q(data_lancamento__gte=data_inicio_passado, data_lancamento__lte=data_fim_passado)),0.0)\n",
    ")\n",
    "\n",
    "# Seleciona despesas entre o começo do ultimo periodo e o final do periodo atual\n",
    "qrelacao_ultimo = query.filter(data_lancamento__gte=data_inicio_passado, data_lancamento__lte=data_fim)\n",
    "    \n",
    "    #\n",
    "qrelacao_ultimo = qrelacao_ultimo.annotate(\n",
    "    despesa_total= Coalesce(Sum('valor_pago', filter=Q(data_lancamento__gte=data_inicio, data_lancamento__lte=data_fim)), 0.0) \n",
    "    - Coalesce(Sum('valor_pago', filter=Q(data_lancamento__gte=data_inicio_passado, data_lancamento__lte=data_fim_passado)),0.0)\n",
    ")\n",
    "\n",
    "qrelacao_ultimo.order_by('despesa_total').last()\n",
    "#qperiodo_antes.union(qperiodo_atual.annotate(despesa_total=-1*F('despesa_total'))).values('cod_categoria','despesa_total').annotate(diferenca=Sum('despesa_total'))\n",
    "#qperiodo_atual, qperiodo_antes"
   ]
  },
  {
   "cell_type": "code",
   "execution_count": 4,
   "metadata": {},
   "outputs": [
    {
     "ename": "NameError",
     "evalue": "name 'qperiodo_atual' is not defined",
     "output_type": "error",
     "traceback": [
      "\u001b[1;31m---------------------------------------------------------------------------\u001b[0m",
      "\u001b[1;31mNameError\u001b[0m                                 Traceback (most recent call last)",
      "\u001b[1;32m<ipython-input-4-f1f2634d4a2a>\u001b[0m in \u001b[0;36m<module>\u001b[1;34m\u001b[0m\n\u001b[1;32m----> 1\u001b[1;33m \u001b[0mqperiodo_atual\u001b[0m\u001b[1;33m\u001b[0m\u001b[1;33m\u001b[0m\u001b[0m\n\u001b[0m",
      "\u001b[1;31mNameError\u001b[0m: name 'qperiodo_atual' is not defined"
     ]
    }
   ],
   "source": [
    "qperiodo_atual"
   ]
  },
  {
   "cell_type": "code",
   "execution_count": 5,
   "metadata": {},
   "outputs": [
    {
     "ename": "ModuleNotFoundError",
     "evalue": "No module named 'serase_relatorio'",
     "output_type": "error",
     "traceback": [
      "\u001b[1;31m---------------------------------------------------------------------------\u001b[0m",
      "\u001b[1;31mModuleNotFoundError\u001b[0m                       Traceback (most recent call last)",
      "\u001b[1;32m<ipython-input-5-13c9ffb32936>\u001b[0m in \u001b[0;36m<module>\u001b[1;34m\u001b[0m\n\u001b[1;32m----> 1\u001b[1;33m \u001b[1;32mfrom\u001b[0m \u001b[0mserase_relatorio\u001b[0m\u001b[1;33m.\u001b[0m\u001b[0mutils\u001b[0m \u001b[1;32mimport\u001b[0m \u001b[0mcalcula_periodo\u001b[0m\u001b[1;33m,\u001b[0m \u001b[0mcalcula_periodo_anterior\u001b[0m\u001b[1;33m\u001b[0m\u001b[1;33m\u001b[0m\u001b[0m\n\u001b[0m\u001b[0;32m      2\u001b[0m \u001b[1;32mfrom\u001b[0m \u001b[0mserase_app\u001b[0m\u001b[1;33m.\u001b[0m\u001b[0mmodels\u001b[0m \u001b[1;32mimport\u001b[0m \u001b[1;33m*\u001b[0m\u001b[1;33m\u001b[0m\u001b[1;33m\u001b[0m\u001b[0m\n\u001b[0;32m      3\u001b[0m \u001b[1;33m\u001b[0m\u001b[0m\n\u001b[0;32m      4\u001b[0m \u001b[1;32mfrom\u001b[0m \u001b[0mdatetime\u001b[0m \u001b[1;32mimport\u001b[0m \u001b[0mdatetime\u001b[0m\u001b[1;33m,\u001b[0m \u001b[0mtimedelta\u001b[0m\u001b[1;33m\u001b[0m\u001b[1;33m\u001b[0m\u001b[0m\n\u001b[0;32m      5\u001b[0m \u001b[1;32mfrom\u001b[0m \u001b[0mdjango\u001b[0m\u001b[1;33m.\u001b[0m\u001b[0mdb\u001b[0m\u001b[1;33m.\u001b[0m\u001b[0mmodels\u001b[0m \u001b[1;32mimport\u001b[0m \u001b[0mQ\u001b[0m\u001b[1;33m,\u001b[0m \u001b[0mF\u001b[0m\u001b[1;33m,\u001b[0m \u001b[0mSum\u001b[0m\u001b[1;33m,\u001b[0m  \u001b[0mDecimalField\u001b[0m\u001b[1;33m,\u001b[0m \u001b[0mValue\u001b[0m\u001b[1;33m,\u001b[0m \u001b[0mCount\u001b[0m\u001b[1;33m\u001b[0m\u001b[1;33m\u001b[0m\u001b[0m\n",
      "\u001b[1;31mModuleNotFoundError\u001b[0m: No module named 'serase_relatorio'"
     ]
    }
   ],
   "source": [
    "from serase_relatorio.utils import calcula_periodo, calcula_periodo_anterior\n",
    "from serase_app.models import *\n",
    "\n",
    "from datetime import datetime, timedelta\n",
    "from django.db.models import Q, F, Sum,  DecimalField, Value, Count\n",
    "from django.db.models.functions import Cast, Coalesce\n",
    "\n",
    "\n",
    "hoje = datetime.strptime(\"2020-09-10\", '%Y-%m-%d')\n",
    "periodo = \"ano\"\n",
    "data_inicio, data_fim = calcula_periodo(periodo, hoje)\n",
    "\n",
    "query = Movimentacao.objects.filter(cod_usuario=usuario, data_lancamento__gte=data_inicio, data_lancamento__lte=data_fim)\n",
    "query = query.filter(valor_pago__isnull=False)\n",
    "\n",
    "total_despesas = query.count()\n",
    "\n",
    "query = query.values(nome=F(\"cod_categoria__nome\")).annotate(porcentagem=Cast(100.0 * Count(\"cod_categoria\")/float(total_despesas), DecimalField(decimal_places=2)))\n",
    "list(query)"
   ]
  },
  {
   "cell_type": "code",
   "execution_count": 6,
   "metadata": {},
   "outputs": [
    {
     "ename": "ModuleNotFoundError",
     "evalue": "No module named 'serase_relatorio'",
     "output_type": "error",
     "traceback": [
      "\u001b[1;31m---------------------------------------------------------------------------\u001b[0m",
      "\u001b[1;31mModuleNotFoundError\u001b[0m                       Traceback (most recent call last)",
      "\u001b[1;32m<ipython-input-6-8ce90be94aeb>\u001b[0m in \u001b[0;36m<module>\u001b[1;34m\u001b[0m\n\u001b[1;32m----> 1\u001b[1;33m \u001b[1;32mfrom\u001b[0m \u001b[0mserase_relatorio\u001b[0m\u001b[1;33m.\u001b[0m\u001b[0mutils\u001b[0m \u001b[1;32mimport\u001b[0m \u001b[0mcalcula_periodo\u001b[0m\u001b[1;33m,\u001b[0m \u001b[0mcalcula_periodo_anterior\u001b[0m\u001b[1;33m\u001b[0m\u001b[1;33m\u001b[0m\u001b[0m\n\u001b[0m\u001b[0;32m      2\u001b[0m \u001b[1;32mfrom\u001b[0m \u001b[0mserase_app\u001b[0m\u001b[1;33m.\u001b[0m\u001b[0mmodels\u001b[0m \u001b[1;32mimport\u001b[0m \u001b[1;33m*\u001b[0m\u001b[1;33m\u001b[0m\u001b[1;33m\u001b[0m\u001b[0m\n\u001b[0;32m      3\u001b[0m \u001b[1;33m\u001b[0m\u001b[0m\n\u001b[0;32m      4\u001b[0m \u001b[1;32mfrom\u001b[0m \u001b[0mdatetime\u001b[0m \u001b[1;32mimport\u001b[0m \u001b[0mdatetime\u001b[0m\u001b[1;33m,\u001b[0m \u001b[0mtimedelta\u001b[0m\u001b[1;33m\u001b[0m\u001b[1;33m\u001b[0m\u001b[0m\n\u001b[0;32m      5\u001b[0m \u001b[1;32mfrom\u001b[0m \u001b[0mdjango\u001b[0m\u001b[1;33m.\u001b[0m\u001b[0mdb\u001b[0m\u001b[1;33m.\u001b[0m\u001b[0mmodels\u001b[0m \u001b[1;32mimport\u001b[0m \u001b[0mQ\u001b[0m\u001b[1;33m,\u001b[0m \u001b[0mF\u001b[0m\u001b[1;33m,\u001b[0m \u001b[0mCase\u001b[0m\u001b[1;33m,\u001b[0m \u001b[0mWhen\u001b[0m\u001b[1;33m,\u001b[0m \u001b[0mValue\u001b[0m\u001b[1;33m,\u001b[0m \u001b[0mCount\u001b[0m\u001b[1;33m,\u001b[0m \u001b[0mCharField\u001b[0m\u001b[1;33m,\u001b[0m \u001b[0mDecimalField\u001b[0m\u001b[1;33m\u001b[0m\u001b[1;33m\u001b[0m\u001b[0m\n",
      "\u001b[1;31mModuleNotFoundError\u001b[0m: No module named 'serase_relatorio'"
     ]
    }
   ],
   "source": [
    "from serase_relatorio.utils import calcula_periodo, calcula_periodo_anterior\n",
    "from serase_app.models import *\n",
    "\n",
    "from datetime import datetime, timedelta\n",
    "from django.db.models import Q, F, Case, When, Value, Count, CharField, DecimalField\n",
    "from django.db.models.functions import Cast, Coalesce, Extract\n",
    "\n",
    "\n",
    "hoje = datetime.strptime(\"2020-09-10\", '%Y-%m-%d')\n",
    "periodo = \"anual\"\n",
    "data_inicio, data_fim = calcula_periodo(periodo, hoje)\n",
    "\n",
    "query = Movimentacao.objects.filter(cod_usuario=usuario, data_lancamento__gte=data_inicio, data_lancamento__lte=data_fim)\n",
    "query = query.filter(cod_padrao__isnull=False, valor_pago__isnull=False, valor_pago__lt=0)\n",
    "\n",
    "query = query.annotate(tipo=Case(\n",
    "    When(cod_padrao__valor__isnull=True, then=Value(\"Variáveis\")),\n",
    "    default=Value(\"Fixas\"),\n",
    "    output_field=CharField()\n",
    "))\n",
    "\n",
    "total = query.count()\n",
    "\n",
    "query.values(\"tipo\").annotate(porcentagem=Cast(100.0 * Count(\"tipo\")/float(total), DecimalField(decimal_places=2)))"
   ]
  },
  {
   "cell_type": "code",
   "execution_count": 14,
   "metadata": {},
   "outputs": [
    {
     "data": {
      "text/plain": [
       "{'Conta de luz': [{'mes': 8, 'valor': -102.8},\n",
       "  {'mes': 9, 'valor': -86.5},\n",
       "  {'mes': 10, 'valor': -95.25}],\n",
       " 'Padrao Teste': [{'mes': 10, 'valor': -15.0}]}"
      ]
     },
     "execution_count": 14,
     "metadata": {},
     "output_type": "execute_result"
    }
   ],
   "source": [
    "from serase_relatorio.utils import calcula_periodo, calcula_periodo_anterior\n",
    "from serase_app.models import *\n",
    "\n",
    "from datetime import datetime, timedelta\n",
    "from django.db.models import Q, F, Case, When, Value, Count, CharField, Sum\n",
    "from django.db.models.functions import Cast, Coalesce, Extract\n",
    "\n",
    "usuario = User.objects.get(username=\"jv_eumsmo\")\n",
    "\n",
    "hoje = datetime.strptime(\"2020-09-10\", '%Y-%m-%d')\n",
    "periodo = \"anual\"\n",
    "data_inicio, data_fim = calcula_periodo(periodo, hoje)\n",
    "\n",
    "query = Movimentacao.objects.filter(cod_usuario=usuario, data_lancamento__gte=data_inicio, data_lancamento__lte=data_fim)\n",
    "query = query.filter(cod_padrao__isnull=False, valor_pago__isnull=False, valor_pago__lt=0, cod_padrao__valor__isnull=True)\n",
    "\n",
    "\n",
    "query = query.annotate(mes=Extract(\"data_lancamento\", \"month\")).values(\"mes\", nome=F(\"cod_padrao__descricao\")).annotate(valor=Sum(\"valor_pago\"))\n",
    "\n",
    "resultado = dict()\n",
    "query = list(query)\n",
    "\n",
    "for obj in query:\n",
    "    valor = {\"mes\": obj[\"mes\"], \"valor\": round(float(obj[\"valor\"]), 2)}\n",
    "    \n",
    "    if obj[\"nome\"] not in resultado:\n",
    "        resultado[obj[\"nome\"]] = list()\n",
    "    resultado[obj[\"nome\"]].append(valor)\n",
    "\n",
    "resultado"
   ]
  },
  {
   "cell_type": "code",
   "execution_count": 16,
   "metadata": {},
   "outputs": [
    {
     "data": {
      "text/plain": [
       "(datetime.datetime(2020, 1, 1, 0, 0),\n",
       " datetime.datetime(2020, 12, 31, 0, 0),\n",
       " datetime.datetime(2019, 1, 1, 0, 0),\n",
       " datetime.datetime(2019, 12, 31, 0, 0))"
      ]
     },
     "execution_count": 16,
     "metadata": {},
     "output_type": "execute_result"
    }
   ],
   "source": [
    "hoje = datetime.strptime(\"2020-09-10\", '%Y-%m-%d')\n",
    "periodo = \"anual\"\n",
    "\n",
    "data_inicio, data_fim = calcula_periodo(periodo,hoje)\n",
    "data_inicio_passado, data_fim_passado = calcula_periodo_anterior(periodo, hoje)\n",
    "\n",
    "data_inicio, data_fim, data_inicio_passado, data_fim_passado"
   ]
  },
  {
   "cell_type": "code",
   "execution_count": 18,
   "metadata": {},
   "outputs": [
    {
     "data": {
      "text/plain": [
       "<Categoria: Categoria object (8)>"
      ]
     },
     "execution_count": 18,
     "metadata": {},
     "output_type": "execute_result"
    }
   ],
   "source": [
    "Categoria.objects.get(id=8)"
   ]
  },
  {
   "cell_type": "code",
   "execution_count": 28,
   "metadata": {},
   "outputs": [
    {
     "data": {
      "text/plain": [
       "<QuerySet [{'mes': 11, 'ano': 2020}, {'mes': 10, 'ano': 2020}, {'mes': 9, 'ano': 2020}, {'mes': 8, 'ano': 2020}, {'mes': 7, 'ano': 2020}]>"
      ]
     },
     "execution_count": 28,
     "metadata": {},
     "output_type": "execute_result"
    }
   ],
   "source": [
    "from django.db.models import Q, F, Case, When, Value, Count, CharField, Sum\n",
    "from django.db.models.functions import Cast, Coalesce, Extract\n",
    "\n",
    "Movimentacao.objects.filter(data_lancamento__isnull=False).annotate(mes=Extract(\"data_lancamento\", \"month\"), ano=Extract(\"data_lancamento\", \"year\")).values(\"mes\",\"ano\").distinct()"
   ]
  },
  {
   "cell_type": "code",
   "execution_count": null,
   "metadata": {},
   "outputs": [],
   "source": []
  }
 ],
 "metadata": {
  "kernelspec": {
   "display_name": "Python 3",
   "language": "python",
   "name": "python3"
  },
  "language_info": {
   "codemirror_mode": {
    "name": "ipython",
    "version": 3
   },
   "file_extension": ".py",
   "mimetype": "text/x-python",
   "name": "python",
   "nbconvert_exporter": "python",
   "pygments_lexer": "ipython3",
   "version": "3.9.1"
  }
 },
 "nbformat": 4,
 "nbformat_minor": 4
}
