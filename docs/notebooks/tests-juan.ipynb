{
 "cells": [
  {
   "cell_type": "code",
   "execution_count": 1,
   "metadata": {},
   "outputs": [],
   "source": [
    "# Sempre rode isso para começar o Notebook\n",
    "# De modo resumido, isso faz com que o notebook possa acessar o Django\n",
    "\n",
    "import sys\n",
    "sys.path.append(\"../../\")\n",
    "\n",
    "import os\n",
    "import django\n",
    "\n",
    "os.environ.setdefault(\"DJANGO_SETTINGS_MODULE\", \"serase_projeto.settings\")\n",
    "os.environ[\"DJANGO_ALLOW_ASYNC_UNSAFE\"] = \"true\"\n",
    "django.setup()"
   ]
  },
  {
   "cell_type": "code",
   "execution_count": 2,
   "metadata": {},
   "outputs": [],
   "source": [
    "# Digite seu código aqui!"
   ]
  },
  {
   "cell_type": "code",
   "execution_count": 2,
   "metadata": {
    "scrolled": true
   },
   "outputs": [
    {
     "data": {
      "text/plain": [
       "[{'id': 1,\n",
       "  'descricao': 'Spotify',\n",
       "  'periodo': 1,\n",
       "  'dia_cobranca': 1,\n",
       "  'data_inicio': datetime.date(2018, 4, 18),\n",
       "  'data_fim': None,\n",
       "  'valor_padrao': Decimal('-26.90'),\n",
       "  'categoria': 'Lazer',\n",
       "  'tipo': 'D'},\n",
       " {'id': 2,\n",
       "  'descricao': 'Bolsa IC',\n",
       "  'periodo': 1,\n",
       "  'dia_cobranca': 6,\n",
       "  'data_inicio': datetime.date(2020, 7, 8),\n",
       "  'data_fim': datetime.date(2021, 7, 8),\n",
       "  'valor_padrao': Decimal('300.00'),\n",
       "  'categoria': 'Sálario',\n",
       "  'tipo': 'R'},\n",
       " {'id': 3,\n",
       "  'descricao': 'Conta de luz',\n",
       "  'periodo': 1,\n",
       "  'dia_cobranca': 6,\n",
       "  'data_inicio': None,\n",
       "  'data_fim': None,\n",
       "  'valor_padrao': None,\n",
       "  'categoria': 'Habitação',\n",
       "  'tipo': 'D'},\n",
       " {'id': 4,\n",
       "  'descricao': 'Internet',\n",
       "  'periodo': 1,\n",
       "  'dia_cobranca': 5,\n",
       "  'data_inicio': datetime.date(2020, 2, 4),\n",
       "  'data_fim': None,\n",
       "  'valor_padrao': Decimal('-59.90'),\n",
       "  'categoria': 'Habitação',\n",
       "  'tipo': 'D'},\n",
       " {'id': 5,\n",
       "  'descricao': 'Sálario',\n",
       "  'periodo': 1,\n",
       "  'dia_cobranca': 5,\n",
       "  'data_inicio': None,\n",
       "  'data_fim': None,\n",
       "  'valor_padrao': Decimal('2356.00'),\n",
       "  'categoria': 'Sálario',\n",
       "  'tipo': 'R'}]"
      ]
     },
     "execution_count": 2,
     "metadata": {},
     "output_type": "execute_result"
    }
   ],
   "source": [
    "# Testando values_list no PadraoMovimentacao\n",
    "\n",
    "from serase_app.models import PadraoMovimentacao\n",
    "from django.db.models import F\n",
    "\n",
    "lista = PadraoMovimentacao.objects.values(\"id\", \"descricao\", \"periodo\", \"dia_cobranca\", \"data_inicio\", \"data_fim\", valor_padrao=F(\"valor\"), categoria=F(\"cod_categoria__nome\"), tipo=F(\"receita_despesa\"))\n",
    "lista = list(lista)\n",
    "lista"
   ]
  },
  {
   "cell_type": "code",
   "execution_count": 11,
   "metadata": {},
   "outputs": [
    {
     "data": {
      "text/plain": [
       "'Receita'"
      ]
     },
     "execution_count": 11,
     "metadata": {},
     "output_type": "execute_result"
    }
   ],
   "source": [
    "# Testando o choices do PadraoMovimentacao\n",
    "\n",
    "#from serase_app.models import PadraoMovimentacao\n",
    "from django.db.models import F, Case, When, CharField, Value\n",
    "\n",
    "# > Consulta\n",
    "\n",
    "# Pego de https://stackoverflow.com/a/60158573\n",
    "class WithChoices(Case):\n",
    "    def __init__(self, model, field, condition=None, then=None, **lookups):\n",
    "        choices = dict(model._meta.get_field(field).flatchoices)\n",
    "        whens = [When(**{field: k, 'then': Value(v)}) for k, v in choices.items()]\n",
    "        return super().__init__(*whens, output_field=CharField())\n",
    "\n",
    "\n",
    "PadraoMovimentacao.objects.annotate(tipo=WithChoices(PadraoMovimentacao, \"receita_despesa\")).filter(tipo=\"Receita\")\n",
    "\n",
    "\n"
   ]
  },
  {
   "cell_type": "code",
   "execution_count": 5,
   "metadata": {},
   "outputs": [
    {
     "data": {
      "text/plain": [
       "'Despesa'"
      ]
     },
     "execution_count": 5,
     "metadata": {},
     "output_type": "execute_result"
    }
   ],
   "source": [
    "PadraoMovimentacao.objects.first().tipo"
   ]
  },
  {
   "cell_type": "code",
   "execution_count": null,
   "metadata": {},
   "outputs": [],
   "source": []
  }
 ],
 "metadata": {
  "kernelspec": {
   "display_name": "Python 3",
   "language": "python",
   "name": "python3"
  },
  "language_info": {
   "codemirror_mode": {
    "name": "ipython",
    "version": 3
   },
   "file_extension": ".py",
   "mimetype": "text/x-python",
   "name": "python",
   "nbconvert_exporter": "python",
   "pygments_lexer": "ipython3",
   "version": "3.7.4"
  }
 },
 "nbformat": 4,
 "nbformat_minor": 4
}
