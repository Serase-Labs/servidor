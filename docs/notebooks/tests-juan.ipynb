{
 "cells": [
  {
   "cell_type": "code",
   "execution_count": 1,
   "metadata": {},
   "outputs": [],
   "source": [
    "# Sempre rode isso para começar o Notebook\n",
    "# De modo resumido, isso faz com que o notebook possa acessar o Django\n",
    "\n",
    "import sys\n",
    "sys.path.append(\"../../\")\n",
    "\n",
    "import os\n",
    "import django\n",
    "\n",
    "os.environ.setdefault(\"DJANGO_SETTINGS_MODULE\", \"serase_projeto.settings\")\n",
    "os.environ[\"DJANGO_ALLOW_ASYNC_UNSAFE\"] = \"true\"\n",
    "django.setup()\n",
    "\n",
    "from serase_app.models import *"
   ]
  },
  {
   "cell_type": "code",
   "execution_count": 11,
   "metadata": {},
   "outputs": [],
   "source": [
    "# Digite seu código aqui!"
   ]
  },
  {
   "cell_type": "code",
   "execution_count": 12,
   "metadata": {
    "scrolled": true
   },
   "outputs": [
    {
     "data": {
      "text/plain": [
       "[{'id': 1,\n",
       "  'descricao': 'Spotify',\n",
       "  'periodo': '1',\n",
       "  'dia_cobranca': 1,\n",
       "  'data_inicio': datetime.date(2018, 4, 18),\n",
       "  'data_fim': None,\n",
       "  'valor_padrao': Decimal('-26.90'),\n",
       "  'categoria': 'Lazer',\n",
       "  'tipo': 'despesa'},\n",
       " {'id': 2,\n",
       "  'descricao': 'Bolsa IC',\n",
       "  'periodo': '1',\n",
       "  'dia_cobranca': 6,\n",
       "  'data_inicio': datetime.date(2020, 7, 8),\n",
       "  'data_fim': datetime.date(2021, 7, 8),\n",
       "  'valor_padrao': Decimal('300.00'),\n",
       "  'categoria': 'Sálario',\n",
       "  'tipo': 'receita'},\n",
       " {'id': 3,\n",
       "  'descricao': 'Conta de luz',\n",
       "  'periodo': '1',\n",
       "  'dia_cobranca': 6,\n",
       "  'data_inicio': None,\n",
       "  'data_fim': None,\n",
       "  'valor_padrao': None,\n",
       "  'categoria': 'Habitação',\n",
       "  'tipo': 'despesa'},\n",
       " {'id': 4,\n",
       "  'descricao': 'Internet',\n",
       "  'periodo': 'mensal',\n",
       "  'dia_cobranca': 5,\n",
       "  'data_inicio': datetime.date(2020, 2, 4),\n",
       "  'data_fim': None,\n",
       "  'valor_padrao': Decimal('-59.90'),\n",
       "  'categoria': 'Habitação',\n",
       "  'tipo': 'despesa'},\n",
       " {'id': 5,\n",
       "  'descricao': 'Sálario',\n",
       "  'periodo': '1',\n",
       "  'dia_cobranca': 5,\n",
       "  'data_inicio': None,\n",
       "  'data_fim': None,\n",
       "  'valor_padrao': Decimal('2356.00'),\n",
       "  'categoria': 'Sálario',\n",
       "  'tipo': 'receita'},\n",
       " {'id': 6,\n",
       "  'descricao': 'spotify',\n",
       "  'periodo': '2',\n",
       "  'dia_cobranca': 84,\n",
       "  'data_inicio': None,\n",
       "  'data_fim': None,\n",
       "  'valor_padrao': Decimal('1500.00'),\n",
       "  'categoria': 'presente',\n",
       "  'tipo': 'receita'}]"
      ]
     },
     "execution_count": 12,
     "metadata": {},
     "output_type": "execute_result"
    }
   ],
   "source": [
    "# Testando values_list no PadraoMovimentacao\n",
    "\n",
    "from serase_app.models import *\n",
    "from django.db.models import F\n",
    "\n",
    "lista = PadraoMovimentacao.objects.values(\"id\", \"descricao\", \"periodo\", \"dia_cobranca\", \"data_inicio\", \"data_fim\", valor_padrao=F(\"valor\"), categoria=F(\"cod_categoria__nome\"), tipo=F(\"receita_despesa\"))\n",
    "lista = list(lista)\n",
    "lista"
   ]
  },
  {
   "cell_type": "code",
   "execution_count": 4,
   "metadata": {},
   "outputs": [
    {
     "data": {
      "text/plain": [
       "<QuerySet [{'id': 1, 'receita_despesa': 'despesa', 'descricao': 'Spotify', 'periodo': '1', 'valor': Decimal('-26.90'), 'dia_cobranca': 1, 'data_inicio': datetime.date(2018, 4, 18), 'data_fim': None, 'cod_usuario_id': 1, 'cod_categoria_id': 4}, {'id': 2, 'receita_despesa': 'receita', 'descricao': 'Bolsa IC', 'periodo': '1', 'valor': Decimal('300.00'), 'dia_cobranca': 6, 'data_inicio': datetime.date(2020, 7, 8), 'data_fim': datetime.date(2021, 7, 8), 'cod_usuario_id': 1, 'cod_categoria_id': 9}, {'id': 3, 'receita_despesa': 'despesa', 'descricao': 'Conta de luz', 'periodo': '1', 'valor': None, 'dia_cobranca': 6, 'data_inicio': None, 'data_fim': None, 'cod_usuario_id': 1, 'cod_categoria_id': 10}, {'id': 4, 'receita_despesa': 'despesa', 'descricao': 'Internet', 'periodo': '1', 'valor': Decimal('-59.90'), 'dia_cobranca': 5, 'data_inicio': datetime.date(2020, 2, 4), 'data_fim': None, 'cod_usuario_id': 1, 'cod_categoria_id': 10}, {'id': 5, 'receita_despesa': 'receita', 'descricao': 'Sálario', 'periodo': '1', 'valor': Decimal('2356.00'), 'dia_cobranca': 5, 'data_inicio': None, 'data_fim': None, 'cod_usuario_id': 1, 'cod_categoria_id': 9}, {'id': 6, 'receita_despesa': 'receita', 'descricao': 'spotify', 'periodo': '2', 'valor': Decimal('1500.00'), 'dia_cobranca': 84, 'data_inicio': None, 'data_fim': None, 'cod_usuario_id': 2, 'cod_categoria_id': 14}]>"
      ]
     },
     "execution_count": 4,
     "metadata": {},
     "output_type": "execute_result"
    }
   ],
   "source": [
    "# Testando o choices do PadraoMovimentacao\n",
    "\n",
    "#from serase_app.models import PadraoMovimentacao\n",
    "from django.db.models import F, Case, When, CharField, Value\n",
    "\n",
    "# > Consulta\n",
    "\n",
    "# Pego de https://stackoverflow.com/a/60158573\n",
    "class WithChoices(Case):\n",
    "    def __init__(self, model, field, condition=None, then=None, **lookups):\n",
    "        choices = dict(model._meta.get_field(field).flatchoices)\n",
    "        whens = [When(**{field: k, 'then': Value(v)}) for k, v in choices.items()]\n",
    "        return super().__init__(*whens, output_field=CharField())\n",
    "\n",
    "\n",
    "PadraoMovimentacao.objects.values()"
   ]
  },
  {
   "cell_type": "code",
   "execution_count": 11,
   "metadata": {},
   "outputs": [],
   "source": [
    "# Testando movimentacoes\n",
    "\n",
    "from serase_app.models import *"
   ]
  },
  {
   "cell_type": "code",
   "execution_count": 12,
   "metadata": {},
   "outputs": [
    {
     "name": "stdout",
     "output_type": "stream",
     "text": [
      "Spotify 2021-01-17\n",
      "Bolsa Ic 2021-01-08\n",
      "Conta de luz 2021-01-08\n",
      "internet 2021-01-08\n",
      "TOP 2021-01-08\n",
      "Sálario 2021-01-07\n",
      "Flauta 2021-01-02\n",
      "Mate coro e sanduba 2020-11-01\n",
      "bebida Halloween 2020-10-30\n",
      "Make pro Halloween 2020-10-30\n",
      "Dinheiro do Spotify 2020-10-26\n",
      "Quebrando a quarentena 2020-10-17\n",
      "Compras 2020-10-10\n",
      "Bolsa ic 2020-10-08\n",
      "Conta de luz 2020-10-08\n",
      "Internet 2020-10-08\n",
      "Spotify 2020-10-08\n",
      "Sálario 2020-10-07\n",
      "Churros 2020-10-03\n",
      "Milkshake McDonnadls 2020-09-15\n",
      "Compras 2020-09-12\n",
      "Bolsa ic 2020-09-08\n",
      "Conta de luz 2020-09-08\n",
      "Internet 2020-09-08\n",
      "Internet 2020-09-08\n",
      "Spotify 2020-09-08\n",
      "Sálario 2020-09-07\n",
      "Viola 2020-09-02\n",
      "Bolsa ic 2020-08-10\n",
      "Conta de luz 2020-08-10\n",
      "Internet 2020-08-10\n",
      "Spotify 2020-08-10\n",
      "Sálario 2020-08-07\n",
      "Adoção do Cumpa, o Cacto 2020-07-16\n",
      "Outer wilds 2020-07-10\n"
     ]
    }
   ],
   "source": [
    "valores = Movimentacao.objects.filter(valor_pago__isnull=False).values_list(\"descricao\", \"data_lancamento\").order_by(\"-data_lancamento\")\n",
    "\n",
    "for nom, dat in valores:\n",
    "    print(nom + \" \" + str(dat))"
   ]
  },
  {
   "cell_type": "code",
   "execution_count": null,
   "metadata": {},
   "outputs": [],
   "source": []
  },
  {
   "cell_type": "code",
   "execution_count": 7,
   "metadata": {},
   "outputs": [
    {
     "data": {
      "text/plain": [
       "<QuerySet [<Movimentacao: Mate coro e sanduba>, <Movimentacao: bebida Halloween>, <Movimentacao: Make pro Halloween>, <Movimentacao: Dinheiro do Spotify>, <Movimentacao: Bolsa Ic>, <Movimentacao: Conta de luz>, <Movimentacao: internet>, <Movimentacao: Sálario>, <Movimentacao: Flauta>, <Movimentacao: Spotify>]>"
      ]
     },
     "execution_count": 7,
     "metadata": {},
     "output_type": "execute_result"
    }
   ],
   "source": [
    "# Teste datetime: objeto data apartir de string e filtrar por data\n",
    "\n",
    "from datetime import datetime\n",
    "\n",
    "data = datetime.strptime(\"2020-10-26\", '%Y-%m-%d').date()\n",
    "Movimentacao.objects.filter(data_lancamento__gte=data)"
   ]
  },
  {
   "cell_type": "code",
   "execution_count": 8,
   "metadata": {},
   "outputs": [
    {
     "data": {
      "text/plain": [
       "{'id': 13,\n",
       " 'descricao': 'Churros',\n",
       " 'valor_esperado': None,\n",
       " 'valor_pago': Decimal('-5.00'),\n",
       " 'data_geracao': None,\n",
       " 'data_lancamento': datetime.date(2020, 10, 3),\n",
       " 'cod_usuario_id': 1,\n",
       " 'cod_categoria_id': 5,\n",
       " 'cod_padrao_id': None}"
      ]
     },
     "execution_count": 8,
     "metadata": {},
     "output_type": "execute_result"
    }
   ],
   "source": [
    "a = Movimentacao.objects.filter(descricao=\"Churros\").values()\n",
    "list(a)[0]"
   ]
  },
  {
   "cell_type": "code",
   "execution_count": 9,
   "metadata": {},
   "outputs": [
    {
     "name": "stdout",
     "output_type": "stream",
     "text": [
      "bebida Halloween 2020-10-30\n",
      "Make pro Halloween 2020-10-30\n",
      "Dinheiro do Spotify 2020-10-26\n",
      "Quebrando a quarentena 2020-10-17\n",
      "Compras 2020-10-10\n",
      "Bolsa ic 2020-10-08\n",
      "Conta de luz 2020-10-08\n",
      "Internet 2020-10-08\n",
      "Spotify 2020-10-08\n",
      "Sálario 2020-10-07\n",
      "Churros 2020-10-03\n",
      "mov_tests 2020-10-01\n"
     ]
    }
   ],
   "source": [
    "from datetime import datetime\n",
    "\n",
    "mes_ano = datetime.strptime(\"2020-10\", '%Y-%m')\n",
    "\n",
    "a = Movimentacao.objects.filter(data_lancamento__month=mes_ano.month, data_lancamento__year=mes_ano.year).order_by(\"-data_lancamento\")\n",
    "for q in a:\n",
    "    print(q.descricao, q.data_lancamento)"
   ]
  },
  {
   "cell_type": "code",
   "execution_count": 10,
   "metadata": {},
   "outputs": [
    {
     "data": {
      "text/plain": [
       "2021"
      ]
     },
     "execution_count": 10,
     "metadata": {},
     "output_type": "execute_result"
    }
   ],
   "source": [
    "datetime.today().year"
   ]
  },
  {
   "cell_type": "code",
   "execution_count": 11,
   "metadata": {},
   "outputs": [
    {
     "data": {
      "text/plain": [
       "Decimal('2139.70000000000')"
      ]
     },
     "execution_count": 11,
     "metadata": {},
     "output_type": "execute_result"
    }
   ],
   "source": [
    "from django.db.models import Sum\n",
    "\n",
    "mes_ano = datetime.strptime(\"2020-10\", '%Y-%m')\n",
    "query_movimentacao = Movimentacao.objects.filter(valor_pago__isnull=False)\n",
    "query_movimentacao = query_movimentacao.filter(data_lancamento__year=mes_ano.year, data_lancamento__month=mes_ano.month)\n",
    "query_movimentacao.aggregate(Sum(\"valor_pago\"))[\"valor_pago__sum\"]"
   ]
  },
  {
   "cell_type": "code",
   "execution_count": 12,
   "metadata": {},
   "outputs": [
    {
     "data": {
      "text/plain": [
       "(datetime.datetime(2019, 12, 1, 0, 0), datetime.datetime(2020, 1, 1, 0, 0))"
      ]
     },
     "execution_count": 12,
     "metadata": {},
     "output_type": "execute_result"
    }
   ],
   "source": [
    "from datetime import datetime, timedelta\n",
    "\n",
    "def mes_passado(data):\n",
    "    dia = data.day\n",
    "    data = data.replace(day=1) - timedelta(days=1)\n",
    "    data = data.replace(day=dia)\n",
    "    return data\n",
    "\n",
    "mes_ano = datetime.strptime(\"2020-01\", '%Y-%m')\n",
    "mes_passado(mes_ano), mes_ano"
   ]
  },
  {
   "cell_type": "code",
   "execution_count": 13,
   "metadata": {},
   "outputs": [
    {
     "name": "stdout",
     "output_type": "stream",
     "text": [
      "2020-09-06 00:00:00 2020-09-12 00:00:00\n",
      "2020-08-30 00:00:00 2020-09-05 00:00:00\n"
     ]
    },
    {
     "data": {
      "text/plain": [
       "{'cod_categoria': 4, 'despesa_total': Decimal('363')}"
      ]
     },
     "execution_count": 13,
     "metadata": {},
     "output_type": "execute_result"
    }
   ],
   "source": [
    "from serase_relatorio.utils import calcula_periodo, calcula_periodo_anterior\n",
    "from serase_app.models import *\n",
    "\n",
    "from datetime import datetime, timedelta\n",
    "from django.db.models import Q, F, Sum, Case, When, DecimalField, Value\n",
    "from django.db.models.functions import Cast, Coalesce\n",
    "\n",
    "\n",
    "usuario = User.objects.get(username=\"jv_eumsmo\")\n",
    "\n",
    "hoje = datetime.strptime(\"2020-09-10\", '%Y-%m-%d')\n",
    "periodo = \"semanal\"\n",
    "\n",
    "data_inicio, data_fim = calcula_periodo(periodo,hoje)\n",
    "data_inicio_passado, data_fim_passado = calcula_periodo_anterior(periodo, hoje)\n",
    "\n",
    "query = Movimentacao.objects.filter(cod_usuario=usuario, valor_pago__lt=0) # Seleciona despesas do usuario\n",
    "query = query.values('cod_categoria')\n",
    "\n",
    "# Seleciona despesas do periodo atual\n",
    "qperiodo_atual = query.filter(data_lancamento__gte=data_inicio, data_lancamento__lte=data_fim)\n",
    "    # Soma todas as despesas de uma categoria em 'despesa_total' e ordena em ordem decrescente\n",
    "qperiodo_atual = qperiodo_atual.annotate(despesa_total=Sum('valor_pago')).order_by(\"despesa_total\")\n",
    "\n",
    "print(data_inicio, data_fim)\n",
    "print(data_inicio_passado, data_fim_passado)\n",
    "\n",
    "query.filter(data_lancamento__gte=data_inicio_passado, data_lancamento__lte=data_fim).values('cod_categoria').annotate(\n",
    "    despesa_total=Case(\n",
    "        When(data_lancamento__gte=data_inicio, data_lancamento__lte=data_fim, then=Sum('valor_pago')),\n",
    "        default=Value(0.0),\n",
    "        output_field=DecimalField()\n",
    "    ) - Case(\n",
    "        When(data_lancamento__gte=data_inicio_passado, data_lancamento__lte=data_fim_passado, then=Sum('valor_pago')),\n",
    "        default=Value(0.0),\n",
    "        output_field=DecimalField()\n",
    "    )\n",
    ").aggregate(a=Sum('despesa_total'))\n",
    "\n",
    "query.filter(data_lancamento__gte=data_inicio_passado, data_lancamento__lte=data_fim).annotate(\n",
    "    despesa_total=Coalesce(Sum('valor_pago', filter=Q(data_lancamento__gte=data_inicio, data_lancamento__lte=data_fim)), 0.0) - Coalesce(Sum('valor_pago', filter=Q(data_lancamento__gte=data_inicio_passado, data_lancamento__lte=data_fim_passado)),0.0)\n",
    ")\n",
    "\n",
    "# Seleciona despesas entre o começo do ultimo periodo e o final do periodo atual\n",
    "qrelacao_ultimo = query.filter(data_lancamento__gte=data_inicio_passado, data_lancamento__lte=data_fim)\n",
    "    \n",
    "    #\n",
    "qrelacao_ultimo = qrelacao_ultimo.annotate(\n",
    "    despesa_total= Coalesce(Sum('valor_pago', filter=Q(data_lancamento__gte=data_inicio, data_lancamento__lte=data_fim)), 0.0) \n",
    "    - Coalesce(Sum('valor_pago', filter=Q(data_lancamento__gte=data_inicio_passado, data_lancamento__lte=data_fim_passado)),0.0)\n",
    ")\n",
    "\n",
    "qrelacao_ultimo.order_by('despesa_total').last()\n",
    "#qperiodo_antes.union(qperiodo_atual.annotate(despesa_total=-1*F('despesa_total'))).values('cod_categoria','despesa_total').annotate(diferenca=Sum('despesa_total'))\n",
    "#qperiodo_atual, qperiodo_antes"
   ]
  },
  {
   "cell_type": "code",
   "execution_count": 14,
   "metadata": {},
   "outputs": [
    {
     "data": {
      "text/plain": [
       "<QuerySet [{'cod_categoria': 8, 'despesa_total': Decimal('-354.400000000000')}, {'cod_categoria': 10, 'despesa_total': Decimal('-206.300000000000')}, {'cod_categoria': 4, 'despesa_total': Decimal('-26.9000000000000')}]>"
      ]
     },
     "execution_count": 14,
     "metadata": {},
     "output_type": "execute_result"
    }
   ],
   "source": [
    "qperiodo_atual"
   ]
  },
  {
   "cell_type": "code",
   "execution_count": 15,
   "metadata": {},
   "outputs": [
    {
     "ename": "ValueError",
     "evalue": "Cannot use None as a query value",
     "output_type": "error",
     "traceback": [
      "\u001b[1;31m---------------------------------------------------------------------------\u001b[0m",
      "\u001b[1;31mValueError\u001b[0m                                Traceback (most recent call last)",
      "\u001b[1;32m<ipython-input-15-13c9ffb32936>\u001b[0m in \u001b[0;36m<module>\u001b[1;34m\u001b[0m\n\u001b[0;32m     11\u001b[0m \u001b[0mdata_inicio\u001b[0m\u001b[1;33m,\u001b[0m \u001b[0mdata_fim\u001b[0m \u001b[1;33m=\u001b[0m \u001b[0mcalcula_periodo\u001b[0m\u001b[1;33m(\u001b[0m\u001b[0mperiodo\u001b[0m\u001b[1;33m,\u001b[0m \u001b[0mhoje\u001b[0m\u001b[1;33m)\u001b[0m\u001b[1;33m\u001b[0m\u001b[1;33m\u001b[0m\u001b[0m\n\u001b[0;32m     12\u001b[0m \u001b[1;33m\u001b[0m\u001b[0m\n\u001b[1;32m---> 13\u001b[1;33m \u001b[0mquery\u001b[0m \u001b[1;33m=\u001b[0m \u001b[0mMovimentacao\u001b[0m\u001b[1;33m.\u001b[0m\u001b[0mobjects\u001b[0m\u001b[1;33m.\u001b[0m\u001b[0mfilter\u001b[0m\u001b[1;33m(\u001b[0m\u001b[0mcod_usuario\u001b[0m\u001b[1;33m=\u001b[0m\u001b[0musuario\u001b[0m\u001b[1;33m,\u001b[0m \u001b[0mdata_lancamento__gte\u001b[0m\u001b[1;33m=\u001b[0m\u001b[0mdata_inicio\u001b[0m\u001b[1;33m,\u001b[0m \u001b[0mdata_lancamento__lte\u001b[0m\u001b[1;33m=\u001b[0m\u001b[0mdata_fim\u001b[0m\u001b[1;33m)\u001b[0m\u001b[1;33m\u001b[0m\u001b[1;33m\u001b[0m\u001b[0m\n\u001b[0m\u001b[0;32m     14\u001b[0m \u001b[0mquery\u001b[0m \u001b[1;33m=\u001b[0m \u001b[0mquery\u001b[0m\u001b[1;33m.\u001b[0m\u001b[0mfilter\u001b[0m\u001b[1;33m(\u001b[0m\u001b[0mvalor_pago__isnull\u001b[0m\u001b[1;33m=\u001b[0m\u001b[1;32mFalse\u001b[0m\u001b[1;33m)\u001b[0m\u001b[1;33m\u001b[0m\u001b[1;33m\u001b[0m\u001b[0m\n\u001b[0;32m     15\u001b[0m \u001b[1;33m\u001b[0m\u001b[0m\n",
      "\u001b[1;32mc:\\users\\juanr\\appdata\\local\\programs\\python\\python39\\lib\\site-packages\\django\\db\\models\\manager.py\u001b[0m in \u001b[0;36mmanager_method\u001b[1;34m(self, *args, **kwargs)\u001b[0m\n\u001b[0;32m     80\u001b[0m         \u001b[1;32mdef\u001b[0m \u001b[0mcreate_method\u001b[0m\u001b[1;33m(\u001b[0m\u001b[0mname\u001b[0m\u001b[1;33m,\u001b[0m \u001b[0mmethod\u001b[0m\u001b[1;33m)\u001b[0m\u001b[1;33m:\u001b[0m\u001b[1;33m\u001b[0m\u001b[1;33m\u001b[0m\u001b[0m\n\u001b[0;32m     81\u001b[0m             \u001b[1;32mdef\u001b[0m \u001b[0mmanager_method\u001b[0m\u001b[1;33m(\u001b[0m\u001b[0mself\u001b[0m\u001b[1;33m,\u001b[0m \u001b[1;33m*\u001b[0m\u001b[0margs\u001b[0m\u001b[1;33m,\u001b[0m \u001b[1;33m**\u001b[0m\u001b[0mkwargs\u001b[0m\u001b[1;33m)\u001b[0m\u001b[1;33m:\u001b[0m\u001b[1;33m\u001b[0m\u001b[1;33m\u001b[0m\u001b[0m\n\u001b[1;32m---> 82\u001b[1;33m                 \u001b[1;32mreturn\u001b[0m \u001b[0mgetattr\u001b[0m\u001b[1;33m(\u001b[0m\u001b[0mself\u001b[0m\u001b[1;33m.\u001b[0m\u001b[0mget_queryset\u001b[0m\u001b[1;33m(\u001b[0m\u001b[1;33m)\u001b[0m\u001b[1;33m,\u001b[0m \u001b[0mname\u001b[0m\u001b[1;33m)\u001b[0m\u001b[1;33m(\u001b[0m\u001b[1;33m*\u001b[0m\u001b[0margs\u001b[0m\u001b[1;33m,\u001b[0m \u001b[1;33m**\u001b[0m\u001b[0mkwargs\u001b[0m\u001b[1;33m)\u001b[0m\u001b[1;33m\u001b[0m\u001b[1;33m\u001b[0m\u001b[0m\n\u001b[0m\u001b[0;32m     83\u001b[0m             \u001b[0mmanager_method\u001b[0m\u001b[1;33m.\u001b[0m\u001b[0m__name__\u001b[0m \u001b[1;33m=\u001b[0m \u001b[0mmethod\u001b[0m\u001b[1;33m.\u001b[0m\u001b[0m__name__\u001b[0m\u001b[1;33m\u001b[0m\u001b[1;33m\u001b[0m\u001b[0m\n\u001b[0;32m     84\u001b[0m             \u001b[0mmanager_method\u001b[0m\u001b[1;33m.\u001b[0m\u001b[0m__doc__\u001b[0m \u001b[1;33m=\u001b[0m \u001b[0mmethod\u001b[0m\u001b[1;33m.\u001b[0m\u001b[0m__doc__\u001b[0m\u001b[1;33m\u001b[0m\u001b[1;33m\u001b[0m\u001b[0m\n",
      "\u001b[1;32mc:\\users\\juanr\\appdata\\local\\programs\\python\\python39\\lib\\site-packages\\django\\db\\models\\query.py\u001b[0m in \u001b[0;36mfilter\u001b[1;34m(self, *args, **kwargs)\u001b[0m\n\u001b[0;32m    890\u001b[0m         \u001b[0mset\u001b[0m\u001b[1;33m.\u001b[0m\u001b[1;33m\u001b[0m\u001b[1;33m\u001b[0m\u001b[0m\n\u001b[0;32m    891\u001b[0m         \"\"\"\n\u001b[1;32m--> 892\u001b[1;33m         \u001b[1;32mreturn\u001b[0m \u001b[0mself\u001b[0m\u001b[1;33m.\u001b[0m\u001b[0m_filter_or_exclude\u001b[0m\u001b[1;33m(\u001b[0m\u001b[1;32mFalse\u001b[0m\u001b[1;33m,\u001b[0m \u001b[1;33m*\u001b[0m\u001b[0margs\u001b[0m\u001b[1;33m,\u001b[0m \u001b[1;33m**\u001b[0m\u001b[0mkwargs\u001b[0m\u001b[1;33m)\u001b[0m\u001b[1;33m\u001b[0m\u001b[1;33m\u001b[0m\u001b[0m\n\u001b[0m\u001b[0;32m    893\u001b[0m \u001b[1;33m\u001b[0m\u001b[0m\n\u001b[0;32m    894\u001b[0m     \u001b[1;32mdef\u001b[0m \u001b[0mexclude\u001b[0m\u001b[1;33m(\u001b[0m\u001b[0mself\u001b[0m\u001b[1;33m,\u001b[0m \u001b[1;33m*\u001b[0m\u001b[0margs\u001b[0m\u001b[1;33m,\u001b[0m \u001b[1;33m**\u001b[0m\u001b[0mkwargs\u001b[0m\u001b[1;33m)\u001b[0m\u001b[1;33m:\u001b[0m\u001b[1;33m\u001b[0m\u001b[1;33m\u001b[0m\u001b[0m\n",
      "\u001b[1;32mc:\\users\\juanr\\appdata\\local\\programs\\python\\python39\\lib\\site-packages\\django\\db\\models\\query.py\u001b[0m in \u001b[0;36m_filter_or_exclude\u001b[1;34m(self, negate, *args, **kwargs)\u001b[0m\n\u001b[0;32m    908\u001b[0m             \u001b[0mclone\u001b[0m\u001b[1;33m.\u001b[0m\u001b[0mquery\u001b[0m\u001b[1;33m.\u001b[0m\u001b[0madd_q\u001b[0m\u001b[1;33m(\u001b[0m\u001b[1;33m~\u001b[0m\u001b[0mQ\u001b[0m\u001b[1;33m(\u001b[0m\u001b[1;33m*\u001b[0m\u001b[0margs\u001b[0m\u001b[1;33m,\u001b[0m \u001b[1;33m**\u001b[0m\u001b[0mkwargs\u001b[0m\u001b[1;33m)\u001b[0m\u001b[1;33m)\u001b[0m\u001b[1;33m\u001b[0m\u001b[1;33m\u001b[0m\u001b[0m\n\u001b[0;32m    909\u001b[0m         \u001b[1;32melse\u001b[0m\u001b[1;33m:\u001b[0m\u001b[1;33m\u001b[0m\u001b[1;33m\u001b[0m\u001b[0m\n\u001b[1;32m--> 910\u001b[1;33m             \u001b[0mclone\u001b[0m\u001b[1;33m.\u001b[0m\u001b[0mquery\u001b[0m\u001b[1;33m.\u001b[0m\u001b[0madd_q\u001b[0m\u001b[1;33m(\u001b[0m\u001b[0mQ\u001b[0m\u001b[1;33m(\u001b[0m\u001b[1;33m*\u001b[0m\u001b[0margs\u001b[0m\u001b[1;33m,\u001b[0m \u001b[1;33m**\u001b[0m\u001b[0mkwargs\u001b[0m\u001b[1;33m)\u001b[0m\u001b[1;33m)\u001b[0m\u001b[1;33m\u001b[0m\u001b[1;33m\u001b[0m\u001b[0m\n\u001b[0m\u001b[0;32m    911\u001b[0m         \u001b[1;32mreturn\u001b[0m \u001b[0mclone\u001b[0m\u001b[1;33m\u001b[0m\u001b[1;33m\u001b[0m\u001b[0m\n\u001b[0;32m    912\u001b[0m \u001b[1;33m\u001b[0m\u001b[0m\n",
      "\u001b[1;32mc:\\users\\juanr\\appdata\\local\\programs\\python\\python39\\lib\\site-packages\\django\\db\\models\\sql\\query.py\u001b[0m in \u001b[0;36madd_q\u001b[1;34m(self, q_object)\u001b[0m\n\u001b[0;32m   1288\u001b[0m         \u001b[1;31m# So, demotion is OK.\u001b[0m\u001b[1;33m\u001b[0m\u001b[1;33m\u001b[0m\u001b[1;33m\u001b[0m\u001b[0m\n\u001b[0;32m   1289\u001b[0m         \u001b[0mexisting_inner\u001b[0m \u001b[1;33m=\u001b[0m \u001b[1;33m{\u001b[0m\u001b[0ma\u001b[0m \u001b[1;32mfor\u001b[0m \u001b[0ma\u001b[0m \u001b[1;32min\u001b[0m \u001b[0mself\u001b[0m\u001b[1;33m.\u001b[0m\u001b[0malias_map\u001b[0m \u001b[1;32mif\u001b[0m \u001b[0mself\u001b[0m\u001b[1;33m.\u001b[0m\u001b[0malias_map\u001b[0m\u001b[1;33m[\u001b[0m\u001b[0ma\u001b[0m\u001b[1;33m]\u001b[0m\u001b[1;33m.\u001b[0m\u001b[0mjoin_type\u001b[0m \u001b[1;33m==\u001b[0m \u001b[0mINNER\u001b[0m\u001b[1;33m}\u001b[0m\u001b[1;33m\u001b[0m\u001b[1;33m\u001b[0m\u001b[0m\n\u001b[1;32m-> 1290\u001b[1;33m         \u001b[0mclause\u001b[0m\u001b[1;33m,\u001b[0m \u001b[0m_\u001b[0m \u001b[1;33m=\u001b[0m \u001b[0mself\u001b[0m\u001b[1;33m.\u001b[0m\u001b[0m_add_q\u001b[0m\u001b[1;33m(\u001b[0m\u001b[0mq_object\u001b[0m\u001b[1;33m,\u001b[0m \u001b[0mself\u001b[0m\u001b[1;33m.\u001b[0m\u001b[0mused_aliases\u001b[0m\u001b[1;33m)\u001b[0m\u001b[1;33m\u001b[0m\u001b[1;33m\u001b[0m\u001b[0m\n\u001b[0m\u001b[0;32m   1291\u001b[0m         \u001b[1;32mif\u001b[0m \u001b[0mclause\u001b[0m\u001b[1;33m:\u001b[0m\u001b[1;33m\u001b[0m\u001b[1;33m\u001b[0m\u001b[0m\n\u001b[0;32m   1292\u001b[0m             \u001b[0mself\u001b[0m\u001b[1;33m.\u001b[0m\u001b[0mwhere\u001b[0m\u001b[1;33m.\u001b[0m\u001b[0madd\u001b[0m\u001b[1;33m(\u001b[0m\u001b[0mclause\u001b[0m\u001b[1;33m,\u001b[0m \u001b[0mAND\u001b[0m\u001b[1;33m)\u001b[0m\u001b[1;33m\u001b[0m\u001b[1;33m\u001b[0m\u001b[0m\n",
      "\u001b[1;32mc:\\users\\juanr\\appdata\\local\\programs\\python\\python39\\lib\\site-packages\\django\\db\\models\\sql\\query.py\u001b[0m in \u001b[0;36m_add_q\u001b[1;34m(self, q_object, used_aliases, branch_negated, current_negated, allow_joins, split_subq, simple_col)\u001b[0m\n\u001b[0;32m   1313\u001b[0m                 \u001b[0mjoinpromoter\u001b[0m\u001b[1;33m.\u001b[0m\u001b[0madd_votes\u001b[0m\u001b[1;33m(\u001b[0m\u001b[0mneeded_inner\u001b[0m\u001b[1;33m)\u001b[0m\u001b[1;33m\u001b[0m\u001b[1;33m\u001b[0m\u001b[0m\n\u001b[0;32m   1314\u001b[0m             \u001b[1;32melse\u001b[0m\u001b[1;33m:\u001b[0m\u001b[1;33m\u001b[0m\u001b[1;33m\u001b[0m\u001b[0m\n\u001b[1;32m-> 1315\u001b[1;33m                 child_clause, needed_inner = self.build_filter(\n\u001b[0m\u001b[0;32m   1316\u001b[0m                     \u001b[0mchild\u001b[0m\u001b[1;33m,\u001b[0m \u001b[0mcan_reuse\u001b[0m\u001b[1;33m=\u001b[0m\u001b[0mused_aliases\u001b[0m\u001b[1;33m,\u001b[0m \u001b[0mbranch_negated\u001b[0m\u001b[1;33m=\u001b[0m\u001b[0mbranch_negated\u001b[0m\u001b[1;33m,\u001b[0m\u001b[1;33m\u001b[0m\u001b[1;33m\u001b[0m\u001b[0m\n\u001b[0;32m   1317\u001b[0m                     \u001b[0mcurrent_negated\u001b[0m\u001b[1;33m=\u001b[0m\u001b[0mcurrent_negated\u001b[0m\u001b[1;33m,\u001b[0m \u001b[0mallow_joins\u001b[0m\u001b[1;33m=\u001b[0m\u001b[0mallow_joins\u001b[0m\u001b[1;33m,\u001b[0m\u001b[1;33m\u001b[0m\u001b[1;33m\u001b[0m\u001b[0m\n",
      "\u001b[1;32mc:\\users\\juanr\\appdata\\local\\programs\\python\\python39\\lib\\site-packages\\django\\db\\models\\sql\\query.py\u001b[0m in \u001b[0;36mbuild_filter\u001b[1;34m(self, filter_expr, branch_negated, current_negated, can_reuse, allow_joins, split_subq, reuse_with_filtered_relation, simple_col)\u001b[0m\n\u001b[0;32m   1249\u001b[0m             \u001b[0mcol\u001b[0m \u001b[1;33m=\u001b[0m \u001b[0m_get_col\u001b[0m\u001b[1;33m(\u001b[0m\u001b[0mtargets\u001b[0m\u001b[1;33m[\u001b[0m\u001b[1;36m0\u001b[0m\u001b[1;33m]\u001b[0m\u001b[1;33m,\u001b[0m \u001b[0mjoin_info\u001b[0m\u001b[1;33m.\u001b[0m\u001b[0mfinal_field\u001b[0m\u001b[1;33m,\u001b[0m \u001b[0malias\u001b[0m\u001b[1;33m,\u001b[0m \u001b[0msimple_col\u001b[0m\u001b[1;33m)\u001b[0m\u001b[1;33m\u001b[0m\u001b[1;33m\u001b[0m\u001b[0m\n\u001b[0;32m   1250\u001b[0m \u001b[1;33m\u001b[0m\u001b[0m\n\u001b[1;32m-> 1251\u001b[1;33m         \u001b[0mcondition\u001b[0m \u001b[1;33m=\u001b[0m \u001b[0mself\u001b[0m\u001b[1;33m.\u001b[0m\u001b[0mbuild_lookup\u001b[0m\u001b[1;33m(\u001b[0m\u001b[0mlookups\u001b[0m\u001b[1;33m,\u001b[0m \u001b[0mcol\u001b[0m\u001b[1;33m,\u001b[0m \u001b[0mvalue\u001b[0m\u001b[1;33m)\u001b[0m\u001b[1;33m\u001b[0m\u001b[1;33m\u001b[0m\u001b[0m\n\u001b[0m\u001b[0;32m   1252\u001b[0m         \u001b[0mlookup_type\u001b[0m \u001b[1;33m=\u001b[0m \u001b[0mcondition\u001b[0m\u001b[1;33m.\u001b[0m\u001b[0mlookup_name\u001b[0m\u001b[1;33m\u001b[0m\u001b[1;33m\u001b[0m\u001b[0m\n\u001b[0;32m   1253\u001b[0m         \u001b[0mclause\u001b[0m\u001b[1;33m.\u001b[0m\u001b[0madd\u001b[0m\u001b[1;33m(\u001b[0m\u001b[0mcondition\u001b[0m\u001b[1;33m,\u001b[0m \u001b[0mAND\u001b[0m\u001b[1;33m)\u001b[0m\u001b[1;33m\u001b[0m\u001b[1;33m\u001b[0m\u001b[0m\n",
      "\u001b[1;32mc:\\users\\juanr\\appdata\\local\\programs\\python\\python39\\lib\\site-packages\\django\\db\\models\\sql\\query.py\u001b[0m in \u001b[0;36mbuild_lookup\u001b[1;34m(self, lookups, lhs, rhs)\u001b[0m\n\u001b[0;32m   1119\u001b[0m         \u001b[1;32mif\u001b[0m \u001b[0mlookup\u001b[0m\u001b[1;33m.\u001b[0m\u001b[0mrhs\u001b[0m \u001b[1;32mis\u001b[0m \u001b[1;32mNone\u001b[0m \u001b[1;32mand\u001b[0m \u001b[1;32mnot\u001b[0m \u001b[0mlookup\u001b[0m\u001b[1;33m.\u001b[0m\u001b[0mcan_use_none_as_rhs\u001b[0m\u001b[1;33m:\u001b[0m\u001b[1;33m\u001b[0m\u001b[1;33m\u001b[0m\u001b[0m\n\u001b[0;32m   1120\u001b[0m             \u001b[1;32mif\u001b[0m \u001b[0mlookup_name\u001b[0m \u001b[1;32mnot\u001b[0m \u001b[1;32min\u001b[0m \u001b[1;33m(\u001b[0m\u001b[1;34m'exact'\u001b[0m\u001b[1;33m,\u001b[0m \u001b[1;34m'iexact'\u001b[0m\u001b[1;33m)\u001b[0m\u001b[1;33m:\u001b[0m\u001b[1;33m\u001b[0m\u001b[1;33m\u001b[0m\u001b[0m\n\u001b[1;32m-> 1121\u001b[1;33m                 \u001b[1;32mraise\u001b[0m \u001b[0mValueError\u001b[0m\u001b[1;33m(\u001b[0m\u001b[1;34m\"Cannot use None as a query value\"\u001b[0m\u001b[1;33m)\u001b[0m\u001b[1;33m\u001b[0m\u001b[1;33m\u001b[0m\u001b[0m\n\u001b[0m\u001b[0;32m   1122\u001b[0m             \u001b[1;32mreturn\u001b[0m \u001b[0mlhs\u001b[0m\u001b[1;33m.\u001b[0m\u001b[0mget_lookup\u001b[0m\u001b[1;33m(\u001b[0m\u001b[1;34m'isnull'\u001b[0m\u001b[1;33m)\u001b[0m\u001b[1;33m(\u001b[0m\u001b[0mlhs\u001b[0m\u001b[1;33m,\u001b[0m \u001b[1;32mTrue\u001b[0m\u001b[1;33m)\u001b[0m\u001b[1;33m\u001b[0m\u001b[1;33m\u001b[0m\u001b[0m\n\u001b[0;32m   1123\u001b[0m \u001b[1;33m\u001b[0m\u001b[0m\n",
      "\u001b[1;31mValueError\u001b[0m: Cannot use None as a query value"
     ]
    }
   ],
   "source": [
    "from serase_relatorio.utils import calcula_periodo, calcula_periodo_anterior\n",
    "from serase_app.models import *\n",
    "\n",
    "from datetime import datetime, timedelta\n",
    "from django.db.models import Q, F, Sum,  DecimalField, Value, Count\n",
    "from django.db.models.functions import Cast, Coalesce\n",
    "\n",
    "\n",
    "hoje = datetime.strptime(\"2020-09-10\", '%Y-%m-%d')\n",
    "periodo = \"ano\"\n",
    "data_inicio, data_fim = calcula_periodo(periodo, hoje)\n",
    "\n",
    "query = Movimentacao.objects.filter(cod_usuario=usuario, data_lancamento__gte=data_inicio, data_lancamento__lte=data_fim)\n",
    "query = query.filter(valor_pago__isnull=False)\n",
    "\n",
    "total_despesas = query.count()\n",
    "\n",
    "query = query.values(nome=F(\"cod_categoria__nome\")).annotate(porcentagem=Cast(100.0 * Count(\"cod_categoria\")/float(total_despesas), DecimalField(decimal_places=2)))\n",
    "list(query)"
   ]
  },
  {
   "cell_type": "code",
   "execution_count": null,
   "metadata": {},
   "outputs": [],
   "source": [
    "from serase_relatorio.utils import calcula_periodo, calcula_periodo_anterior\n",
    "from serase_app.models import *\n",
    "\n",
    "from datetime import datetime, timedelta\n",
    "from django.db.models import Q, F, Case, When, Value, Count, CharField, DecimalField\n",
    "from django.db.models.functions import Cast, Coalesce, Extract\n",
    "\n",
    "\n",
    "hoje = datetime.strptime(\"2020-09-10\", '%Y-%m-%d')\n",
    "periodo = \"anual\"\n",
    "data_inicio, data_fim = calcula_periodo(periodo, hoje)\n",
    "\n",
    "query = Movimentacao.objects.filter(cod_usuario=usuario, data_lancamento__gte=data_inicio, data_lancamento__lte=data_fim)\n",
    "query = query.filter(cod_padrao__isnull=False, valor_pago__isnull=False, valor_pago__lt=0)\n",
    "\n",
    "query = query.annotate(tipo=Case(\n",
    "    When(cod_padrao__valor__isnull=True, then=Value(\"Variáveis\")),\n",
    "    default=Value(\"Fixas\"),\n",
    "    output_field=CharField()\n",
    "))\n",
    "\n",
    "total = query.count()\n",
    "\n",
    "query.values(\"tipo\").annotate(porcentagem=Cast(100.0 * Count(\"tipo\")/float(total), DecimalField(decimal_places=2)))"
   ]
  },
  {
   "cell_type": "code",
   "execution_count": null,
   "metadata": {},
   "outputs": [],
   "source": [
    "from serase_relatorio.utils import calcula_periodo, calcula_periodo_anterior\n",
    "from serase_app.models import *\n",
    "\n",
    "from datetime import datetime, timedelta\n",
    "from django.db.models import Q, F, Case, When, Value, Count, CharField, Sum\n",
    "from django.db.models.functions import Cast, Coalesce, Extract\n",
    "\n",
    "usuario = User.objects.get(username=\"jv_eumsmo\")\n",
    "\n",
    "hoje = datetime.strptime(\"2020-09-10\", '%Y-%m-%d')\n",
    "periodo = \"anual\"\n",
    "data_inicio, data_fim = calcula_periodo(periodo, hoje)\n",
    "\n",
    "query = Movimentacao.objects.filter(cod_usuario=usuario, data_lancamento__gte=data_inicio, data_lancamento__lte=data_fim)\n",
    "query = query.filter(cod_padrao__isnull=False, valor_pago__isnull=False, valor_pago__lt=0, cod_padrao__valor__isnull=True)\n",
    "\n",
    "\n",
    "query = query.annotate(mes=Extract(\"data_lancamento\", \"month\")).values(\"mes\", nome=F(\"cod_padrao__descricao\")).annotate(valor=Sum(\"valor_pago\"))\n",
    "\n",
    "resultado = dict()\n",
    "query = list(query)\n",
    "\n",
    "for obj in query:\n",
    "    valor = {\"mes\": obj[\"mes\"], \"valor\": round(float(obj[\"valor\"]), 2)}\n",
    "    \n",
    "    if obj[\"nome\"] not in resultado:\n",
    "        resultado[obj[\"nome\"]] = list()\n",
    "    resultado[obj[\"nome\"]].append(valor)\n",
    "\n",
    "resultado"
   ]
  },
  {
   "cell_type": "code",
   "execution_count": null,
   "metadata": {},
   "outputs": [],
   "source": [
    "hoje = datetime.strptime(\"2020-09-10\", '%Y-%m-%d')\n",
    "periodo = \"anual\"\n",
    "\n",
    "data_inicio, data_fim = calcula_periodo(periodo,hoje)\n",
    "data_inicio_passado, data_fim_passado = calcula_periodo_anterior(periodo, hoje)\n",
    "\n",
    "data_inicio, data_fim, data_inicio_passado, data_fim_passado"
   ]
  },
  {
   "cell_type": "code",
   "execution_count": null,
   "metadata": {},
   "outputs": [],
   "source": [
    "Categoria.objects.get(id=8)"
   ]
  },
  {
   "cell_type": "code",
   "execution_count": 10,
   "metadata": {},
   "outputs": [
    {
     "data": {
      "text/plain": [
       "<QuerySet [{'mes': 11, 'ano': 2020}, {'mes': 10, 'ano': 2020}, {'mes': 9, 'ano': 2020}, {'mes': 8, 'ano': 2020}, {'mes': 7, 'ano': 2020}, {'mes': 1, 'ano': 2021}]>"
      ]
     },
     "execution_count": 10,
     "metadata": {},
     "output_type": "execute_result"
    }
   ],
   "source": [
    "from django.db.models import Q, F, Case, When, Value, Count, CharField, Sum\n",
    "from django.db.models.functions import Cast, Coalesce, Extract\n",
    "\n",
    "Movimentacao.objects.filter(data_lancamento__isnull=False).annotate(mes=Extract(\"data_lancamento\", \"month\"), ano=Extract(\"data_lancamento\", \"year\")).values(\"mes\",\"ano\").distinct()"
   ]
  },
  {
   "cell_type": "code",
   "execution_count": null,
   "metadata": {},
   "outputs": [],
   "source": [
    "hoje = datetime.strptime(\"2020-09-10\", '%Y-%m-%d')\n",
    "usuario = User.objects.get(username=\"jv_eumsmo\")\n",
    "categ = Categoria.objects.first()\n",
    "\n",
    "Movimentacao.objects.create(descricao=\"mov_tests\", valor_pago=1.2, data_lancamento=hoje, cod_usuario=usuario, cod_categoria=categ)"
   ]
  },
  {
   "cell_type": "code",
   "execution_count": 14,
   "metadata": {},
   "outputs": [
    {
     "data": {
      "text/plain": [
       "{'valor_pago__sum': Decimal('6215.54000000000')}"
      ]
     },
     "execution_count": 14,
     "metadata": {},
     "output_type": "execute_result"
    }
   ],
   "source": [
    "Movimentacao.objects.filter(cod_usuario__username=\"jv_eumsmo\", data_lancamento__lt='2020-11-01').aggregate(Sum('valor_pago'))"
   ]
  },
  {
   "cell_type": "code",
   "execution_count": null,
   "metadata": {},
   "outputs": [],
   "source": []
  },
  {
   "cell_type": "code",
   "execution_count": 11,
   "metadata": {},
   "outputs": [
    {
     "data": {
      "text/plain": [
       "<QuerySet [<Movimentacao: Spotify>, <Movimentacao: Bolsa ic>, <Movimentacao: Conta de luz>, <Movimentacao: Internet>, <Movimentacao: Sálario>, <Movimentacao: Spotify>, <Movimentacao: Bolsa ic>, <Movimentacao: Conta de luz>, <Movimentacao: Internet>, <Movimentacao: Internet>, <Movimentacao: Sálario>, <Movimentacao: Spotify>, <Movimentacao: Bolsa ic>, <Movimentacao: Conta de luz>, <Movimentacao: Internet>, <Movimentacao: Sálario>, <Movimentacao: Spotify>, <Movimentacao: Bolsa Ic>, <Movimentacao: Conta de luz>, <Movimentacao: internet>, '...(remaining elements truncated)...']>"
      ]
     },
     "execution_count": 11,
     "metadata": {},
     "output_type": "execute_result"
    }
   ],
   "source": [
    "query = Movimentacao.objects.filter(cod_usuario__username=\"jv_eumsmo\", cod_padrao__isnull=False)\n",
    "query"
   ]
  },
  {
   "cell_type": "code",
   "execution_count": 12,
   "metadata": {},
   "outputs": [
    {
     "data": {
      "text/plain": [
       "<QuerySet [<Movimentacao: Spotify>]>"
      ]
     },
     "execution_count": 12,
     "metadata": {},
     "output_type": "execute_result"
    }
   ],
   "source": [
    "query.filter(data_lancamento__isnull=True)"
   ]
  },
  {
   "cell_type": "code",
   "execution_count": null,
   "metadata": {},
   "outputs": [],
   "source": [
    "from datetime import datetime, timedelta, date\n",
    "from dateutil.relativedelta import relativedelta\n",
    "\n",
    "def add_business_days(from_date, number_of_days):\n",
    "    to_date = from_date\n",
    "    while number_of_days:\n",
    "       to_date += timedelta(1)\n",
    "       if to_date.weekday() < 5: # i.e. is not saturday or sunday\n",
    "           number_of_days -= 1\n",
    "    return to_date\n",
    "\n",
    "def business_days_in_month(mes, dias):\n",
    "    data = mes.replace(day=1) - timedelta(days=1)\n",
    "    return add_business_days(data, dias)\n",
    "\n",
    "def day_of_week(semana,day):\n",
    "    # 1=domingo, 2=segunda, ..., 7=sabado\n",
    "    data = semana - timedelta(days=data_ultima_cobranca.weekday()+ day - 1)\n",
    "    print(data)\n",
    "    return data\n",
    "\n",
    "def month_of_year(ano, mes):\n",
    "    data = ano.replace(day=1,month=mes)\n",
    "    return data\n",
    "\n",
    "def create_cobranca(padrao, data):\n",
    "    if padrao.periodo == \"mensal\":\n",
    "        data_geracao = business_days_in_month(data, padrao.dia_cobranca)\n",
    "    elif padrao.periodo == \"semanal\":\n",
    "        data_geracao = day_of_week(data, padrao.dia_cobranca)\n",
    "    elif padrao.periodo == \"anual\":\n",
    "        data_geracao = month_of_year(data, padrao.dia_cobranca)\n",
    "    \n",
    "    cobranca = Movimentacao(descricao=padrao.descricao, valor_esperado=padrao.valor, data_geracao=data_geracao, cod_usuario=padrao.cod_usuario, cod_categoria=padrao.cod_categoria, cod_padrao=padrao)\n",
    "    return cobranca\n",
    "\n",
    "padrao = PadraoMovimentacao.objects.get(descricao=\"Internet\")\n",
    "data_ultima_cobranca = padrao.ultima_cobranca.data_geracao\n",
    "\n",
    "data_ultima_cobranca + relativedelta(months=1)\n",
    "print(padrao.periodo)\n",
    "print(padrao)\n",
    "print(padrao.ultima_cobranca, data_ultima_cobranca)\n",
    "\n",
    "def week_num(date):\n",
    "    return date.isocalendar()[1]\n",
    "\n",
    "\n",
    "hoje = date.today()\n",
    "\n",
    "cobrancas_criadas = []\n",
    "\n",
    "if padrao.periodo == \"anual\" and data_ultima_cobranca.year < hoje.year:\n",
    "    print(\"Cobrança gerada por padrão anual não esta disponivel no atual momento!\")\n",
    "elif padrao.periodo == \"mensal\" and data_ultima_cobranca < hoje: # Cobrança mensal e ultima cobrança não foi nesse mes\n",
    "    # Código ainda só considera cobranças de padrão normal, ignorando as de divida.\n",
    "    while data_ultima_cobranca < hoje:\n",
    "        data_ultima_cobranca = data_ultima_cobranca + relativedelta(months=1)\n",
    "        data_ultima_cobranca = data_ultima_cobranca.replace(day=1)\n",
    "        aux = create_cobranca(padrao, data_ultima_cobranca)\n",
    "        data_ultima_cobranca = aux.data_geracao\n",
    "        \n",
    "        if data_ultima_cobranca <= hoje:\n",
    "            cobrancas_criadas.append(aux)\n",
    "elif padrao.periodo == \"semanal\" and data_ultima_cobranca.year <= hoje.year and week_num(data_ultima_cobranca) < week_num(hoje):\n",
    "    # Código ainda só considera cobranças de padrão normal, ignorando as de divida.\n",
    "    while data_ultima_cobranca < hoje:\n",
    "        data_ultima_cobranca = data_ultima_cobranca + timedelta(weeks=1)\n",
    "        data_ultima_cobranca = data_ultima_cobranca - timedelta(days=data_ultima_cobranca.weekday())\n",
    "        aux = create_cobranca(padrao, data_ultima_cobranca)\n",
    "        data_ultima_cobranca = aux.data_geracao\n",
    "       \n",
    "        \n",
    "        if data_ultima_cobranca <= hoje:\n",
    "            cobrancas_criadas.append(aux)\n",
    "\n",
    "print(cobrancas_criadas)\n",
    "for c in cobrancas_criadas:\n",
    "    print(c, c.data_geracao)\n"
   ]
  },
  {
   "cell_type": "code",
   "execution_count": 5,
   "metadata": {},
   "outputs": [
    {
     "data": {
      "text/plain": [
       "[<Movimentacao: Spotify>, <Movimentacao: Spotify>]"
      ]
     },
     "execution_count": 5,
     "metadata": {},
     "output_type": "execute_result"
    }
   ],
   "source": [
    "from serase_app.views import *\n",
    "gerar_cobranca(PadraoMovimentacao.objects.first())"
   ]
  },
  {
   "cell_type": "code",
   "execution_count": null,
   "metadata": {},
   "outputs": [],
   "source": []
  },
  {
   "cell_type": "code",
   "execution_count": null,
   "metadata": {},
   "outputs": [],
   "source": []
  }
 ],
 "metadata": {
  "kernelspec": {
   "display_name": "Python 3",
   "language": "python",
   "name": "python3"
  },
  "language_info": {
   "codemirror_mode": {
    "name": "ipython",
    "version": 3
   },
   "file_extension": ".py",
   "mimetype": "text/x-python",
   "name": "python",
   "nbconvert_exporter": "python",
   "pygments_lexer": "ipython3",
   "version": "3.9.1"
  }
 },
 "nbformat": 4,
 "nbformat_minor": 4
}
