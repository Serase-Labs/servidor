{
 "cells": [
  {
   "cell_type": "code",
   "execution_count": 3,
   "metadata": {},
   "outputs": [],
   "source": [
    "# Sempre rode isso para começar o Notebook\n",
    "# De modo resumido, isso faz com que o notebook possa acessar o Django\n",
    "\n",
    "import sys\n",
    "sys.path.append(\"../../\")\n",
    "\n",
    "import os\n",
    "import django\n",
    "\n",
    "os.environ.setdefault(\"DJANGO_SETTINGS_MODULE\", \"serase_projeto.settings\")\n",
    "os.environ[\"DJANGO_ALLOW_ASYNC_UNSAFE\"] = \"true\"\n",
    "django.setup()"
   ]
  },
  {
   "cell_type": "code",
   "execution_count": 4,
   "metadata": {},
   "outputs": [],
   "source": [
    "# Digite seu código aqui!"
   ]
  },
  {
   "cell_type": "code",
   "execution_count": 16,
   "metadata": {
    "scrolled": true
   },
   "outputs": [
    {
     "ename": "SyntaxError",
     "evalue": "invalid syntax (<ipython-input-16-701879c80dad>, line 6)",
     "output_type": "error",
     "traceback": [
      "\u001b[1;36m  File \u001b[1;32m\"<ipython-input-16-701879c80dad>\"\u001b[1;36m, line \u001b[1;32m6\u001b[0m\n\u001b[1;33m    lista = PadraoMovimentacao.objects.values(\"id\", \"descricao\", \"periodo\", \"dia_cobranca\", \"data_inicio\", \"data_fim\", valor_padrao=F(\"valor\"), $categoria=F(\"categoria__nome\"), tipo=F(\"receita_despesa\"))\u001b[0m\n\u001b[1;37m                                                                                                                                                ^\u001b[0m\n\u001b[1;31mSyntaxError\u001b[0m\u001b[1;31m:\u001b[0m invalid syntax\n"
     ]
    }
   ],
   "source": [
    "# Testando values_list no PadraoMovimentacao\n",
    "\n",
    "from serase_app.models import PadraoMovimentacao\n",
    "from django.db.models import F\n",
    "\n",
    "lista = PadraoMovimentacao.objects.values(\"id\", \"descricao\", \"periodo\", \"dia_cobranca\", \"data_inicio\", \"data_fim\", valor_padrao=F(\"valor\"), categoria=F(\"categoria__nome\"), tipo=F(\"receita_despesa\"))\n",
    "lista = list(lista)\n",
    "lista"
   ]
  },
  {
   "cell_type": "code",
   "execution_count": null,
   "metadata": {},
   "outputs": [],
   "source": []
  }
 ],
 "metadata": {
  "kernelspec": {
   "display_name": "Python 3",
   "language": "python",
   "name": "python3"
  },
  "language_info": {
   "codemirror_mode": {
    "name": "ipython",
    "version": 3
   },
   "file_extension": ".py",
   "mimetype": "text/x-python",
   "name": "python",
   "nbconvert_exporter": "python",
   "pygments_lexer": "ipython3",
   "version": "3.7.4"
  }
 },
 "nbformat": 4,
 "nbformat_minor": 4
}
